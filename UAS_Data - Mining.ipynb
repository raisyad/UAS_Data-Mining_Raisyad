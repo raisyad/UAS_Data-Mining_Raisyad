{
 "cells": [
  {
   "cell_type": "markdown",
   "id": "fad1a1a7",
   "metadata": {},
   "source": [
    "Raisyad Jullfikar 2106238"
   ]
  },
  {
   "cell_type": "code",
   "execution_count": 112,
   "id": "341f1f26",
   "metadata": {},
   "outputs": [],
   "source": [
    "# Export Library\n",
    "%matplotlib inline\n",
    "import numpy as np\n",
    "import pandas as pd\n",
    "import matplotlib.pyplot as plt\n",
    "import seaborn as sns\n",
    "import pickle\n",
    "import xgboost as xgb\n",
    "import joblib\n",
    "import pickle\n",
    "from sklearn import preprocessing\n",
    "from sklearn.model_selection import train_test_split\n",
    "from sklearn.naive_bayes import GaussianNB\n",
    "from sklearn.metrics import classification_report\n",
    "from sklearn.metrics import accuracy_score\n",
    "from sklearn import tree\n",
    "from sklearn.ensemble import RandomForestClassifier\n",
    "from sklearn.metrics import confusion_matrix\n",
    "from sklearn.model_selection import cross_val_score\n",
    "from sklearn.metrics import make_scorer\n",
    "from sklearn.decomposition import PCA\n",
    "from sklearn.impute import SimpleImputer\n",
    "from sklearn.model_selection import GridSearchCV\n",
    "from sklearn import tree\n",
    "from sklearn.naive_bayes import GaussianNB\n",
    "from sklearn.metrics import classification_report\n",
    "from sklearn.metrics import accuracy_score"
   ]
  },
  {
   "cell_type": "code",
   "execution_count": 2,
   "id": "a7375bef",
   "metadata": {},
   "outputs": [],
   "source": [
    "# Import data pmi\n",
    "df_pmiTarget = pd.read_csv(\"C:\\\\Users\\\\raisy\\\\Downloads\\\\dataset_uas_datamining_jan_23\\\\pmi.csv\")"
   ]
  },
  {
   "cell_type": "code",
   "execution_count": 3,
   "id": "743028b1",
   "metadata": {},
   "outputs": [
    {
     "name": "stdout",
     "output_type": "stream",
     "text": [
      "<class 'pandas.core.frame.DataFrame'>\n",
      "RangeIndex: 442 entries, 0 to 441\n",
      "Data columns (total 3 columns):\n",
      " #   Column        Non-Null Count  Dtype \n",
      "---  ------        --------------  ----- \n",
      " 0   prov          442 non-null    object\n",
      " 1   tahun         442 non-null    int64 \n",
      " 2   kategori_pmi  442 non-null    object\n",
      "dtypes: int64(1), object(2)\n",
      "memory usage: 10.5+ KB\n"
     ]
    }
   ],
   "source": [
    "# Cek jumlah data dan type data dari dataset kelas target\n",
    "df_pmiTarget.info()"
   ]
  },
  {
   "cell_type": "code",
   "execution_count": 4,
   "id": "1ee10ca4",
   "metadata": {},
   "outputs": [
    {
     "data": {
      "text/plain": [
       "prov            442\n",
       "tahun           442\n",
       "kategori_pmi    442\n",
       "dtype: int64"
      ]
     },
     "execution_count": 4,
     "metadata": {},
     "output_type": "execute_result"
    }
   ],
   "source": [
    "# Mengecek data kosong\n",
    "df_pmiTarget.isnull().count()"
   ]
  },
  {
   "cell_type": "code",
   "execution_count": 5,
   "id": "8f44233a",
   "metadata": {},
   "outputs": [
    {
     "data": {
      "text/html": [
       "<div>\n",
       "<style scoped>\n",
       "    .dataframe tbody tr th:only-of-type {\n",
       "        vertical-align: middle;\n",
       "    }\n",
       "\n",
       "    .dataframe tbody tr th {\n",
       "        vertical-align: top;\n",
       "    }\n",
       "\n",
       "    .dataframe thead th {\n",
       "        text-align: right;\n",
       "    }\n",
       "</style>\n",
       "<table border=\"1\" class=\"dataframe\">\n",
       "  <thead>\n",
       "    <tr style=\"text-align: right;\">\n",
       "      <th></th>\n",
       "      <th>prov</th>\n",
       "      <th>tahun</th>\n",
       "      <th>kategori_pmi</th>\n",
       "    </tr>\n",
       "  </thead>\n",
       "  <tbody>\n",
       "    <tr>\n",
       "      <th>0</th>\n",
       "      <td>ACEH</td>\n",
       "      <td>2022</td>\n",
       "      <td>TINGGI</td>\n",
       "    </tr>\n",
       "    <tr>\n",
       "      <th>1</th>\n",
       "      <td>SUMATERA UTARA</td>\n",
       "      <td>2022</td>\n",
       "      <td>TINGGI</td>\n",
       "    </tr>\n",
       "    <tr>\n",
       "      <th>2</th>\n",
       "      <td>SUMATERA BARAT</td>\n",
       "      <td>2022</td>\n",
       "      <td>TINGGI</td>\n",
       "    </tr>\n",
       "    <tr>\n",
       "      <th>3</th>\n",
       "      <td>RIAU</td>\n",
       "      <td>2022</td>\n",
       "      <td>TINGGI</td>\n",
       "    </tr>\n",
       "    <tr>\n",
       "      <th>4</th>\n",
       "      <td>JAMBI</td>\n",
       "      <td>2022</td>\n",
       "      <td>TINGGI</td>\n",
       "    </tr>\n",
       "  </tbody>\n",
       "</table>\n",
       "</div>"
      ],
      "text/plain": [
       "             prov  tahun kategori_pmi\n",
       "0            ACEH   2022       TINGGI\n",
       "1  SUMATERA UTARA   2022       TINGGI\n",
       "2  SUMATERA BARAT   2022       TINGGI\n",
       "3            RIAU   2022       TINGGI\n",
       "4           JAMBI   2022       TINGGI"
      ]
     },
     "execution_count": 5,
     "metadata": {},
     "output_type": "execute_result"
    }
   ],
   "source": [
    "# Menampilkan sebagian kecil data\n",
    "df_pmiTarget.head(5)"
   ]
  },
  {
   "cell_type": "code",
   "execution_count": 106,
   "id": "c5363ad7",
   "metadata": {},
   "outputs": [
    {
     "data": {
      "text/plain": [
       "array(['TINGGI', 'SANGAT TINGGI', 'SEDANG', 'SANGAT RENDAH'], dtype=object)"
      ]
     },
     "execution_count": 106,
     "metadata": {},
     "output_type": "execute_result"
    }
   ],
   "source": [
    "# Mengecek data unique dari kolom kategori\n",
    "df_pmiTarget['kategori_pmi'].unique()"
   ]
  },
  {
   "cell_type": "code",
   "execution_count": 6,
   "id": "56cd46a4",
   "metadata": {},
   "outputs": [],
   "source": [
    "# Import data kepadatan\n",
    "df_Kepadatan = pd.read_csv(\"C:\\\\Users\\\\raisy\\\\Downloads\\\\dataset_uas_datamining_jan_23\\\\kepadatan_penduduk.csv\")"
   ]
  },
  {
   "cell_type": "code",
   "execution_count": 7,
   "id": "9f97ff83",
   "metadata": {},
   "outputs": [
    {
     "name": "stdout",
     "output_type": "stream",
     "text": [
      "<class 'pandas.core.frame.DataFrame'>\n",
      "RangeIndex: 280 entries, 0 to 279\n",
      "Data columns (total 3 columns):\n",
      " #   Column              Non-Null Count  Dtype \n",
      "---  ------              --------------  ----- \n",
      " 0   prov                280 non-null    object\n",
      " 1   tahun               280 non-null    int64 \n",
      " 2   kepadatan_penduduk  280 non-null    object\n",
      "dtypes: int64(1), object(2)\n",
      "memory usage: 6.7+ KB\n"
     ]
    }
   ],
   "source": [
    "# Cek jumlah data dan type data dari dataset kepadatan\n",
    "df_Kepadatan.info()"
   ]
  },
  {
   "cell_type": "code",
   "execution_count": 8,
   "id": "a8ecd775",
   "metadata": {},
   "outputs": [
    {
     "data": {
      "text/html": [
       "<div>\n",
       "<style scoped>\n",
       "    .dataframe tbody tr th:only-of-type {\n",
       "        vertical-align: middle;\n",
       "    }\n",
       "\n",
       "    .dataframe tbody tr th {\n",
       "        vertical-align: top;\n",
       "    }\n",
       "\n",
       "    .dataframe thead th {\n",
       "        text-align: right;\n",
       "    }\n",
       "</style>\n",
       "<table border=\"1\" class=\"dataframe\">\n",
       "  <thead>\n",
       "    <tr style=\"text-align: right;\">\n",
       "      <th></th>\n",
       "      <th>prov</th>\n",
       "      <th>tahun</th>\n",
       "      <th>kepadatan_penduduk</th>\n",
       "    </tr>\n",
       "  </thead>\n",
       "  <tbody>\n",
       "    <tr>\n",
       "      <th>0</th>\n",
       "      <td>ACEH</td>\n",
       "      <td>2021</td>\n",
       "      <td>92</td>\n",
       "    </tr>\n",
       "    <tr>\n",
       "      <th>1</th>\n",
       "      <td>SUMATERA UTARA</td>\n",
       "      <td>2021</td>\n",
       "      <td>205</td>\n",
       "    </tr>\n",
       "    <tr>\n",
       "      <th>2</th>\n",
       "      <td>SUMATERA BARAT</td>\n",
       "      <td>2021</td>\n",
       "      <td>133</td>\n",
       "    </tr>\n",
       "    <tr>\n",
       "      <th>3</th>\n",
       "      <td>RIAU</td>\n",
       "      <td>2021</td>\n",
       "      <td>75</td>\n",
       "    </tr>\n",
       "    <tr>\n",
       "      <th>4</th>\n",
       "      <td>JAMBI</td>\n",
       "      <td>2021</td>\n",
       "      <td>72</td>\n",
       "    </tr>\n",
       "  </tbody>\n",
       "</table>\n",
       "</div>"
      ],
      "text/plain": [
       "             prov  tahun kepadatan_penduduk\n",
       "0            ACEH   2021                 92\n",
       "1  SUMATERA UTARA   2021                205\n",
       "2  SUMATERA BARAT   2021                133\n",
       "3            RIAU   2021                 75\n",
       "4           JAMBI   2021                 72"
      ]
     },
     "execution_count": 8,
     "metadata": {},
     "output_type": "execute_result"
    }
   ],
   "source": [
    "# Tampilkan sebagian kecil data\n",
    "df_Kepadatan.head(5)"
   ]
  },
  {
   "cell_type": "code",
   "execution_count": 9,
   "id": "b7079303",
   "metadata": {},
   "outputs": [],
   "source": [
    "# Import data persen rumah menyewa\n",
    "df_RumahSewa = pd.read_csv(\"C:\\\\Users\\\\raisy\\\\Downloads\\\\dataset_uas_datamining_jan_23\\\\persen_rumah_menyewa.csv\")"
   ]
  },
  {
   "cell_type": "code",
   "execution_count": 10,
   "id": "e6dde5a1",
   "metadata": {},
   "outputs": [
    {
     "name": "stdout",
     "output_type": "stream",
     "text": [
      "<class 'pandas.core.frame.DataFrame'>\n",
      "RangeIndex: 245 entries, 0 to 244\n",
      "Data columns (total 3 columns):\n",
      " #   Column                Non-Null Count  Dtype  \n",
      "---  ------                --------------  -----  \n",
      " 0   tahun                 245 non-null    int64  \n",
      " 1   persen_rumah_menyewa  245 non-null    float64\n",
      " 2   prov                  245 non-null    object \n",
      "dtypes: float64(1), int64(1), object(1)\n",
      "memory usage: 5.9+ KB\n"
     ]
    }
   ],
   "source": [
    "# Cek jumlah Data dan type datanya dari dataset rumah sewa\n",
    "df_RumahSewa.info()"
   ]
  },
  {
   "cell_type": "code",
   "execution_count": 11,
   "id": "3c887409",
   "metadata": {},
   "outputs": [
    {
     "data": {
      "text/html": [
       "<div>\n",
       "<style scoped>\n",
       "    .dataframe tbody tr th:only-of-type {\n",
       "        vertical-align: middle;\n",
       "    }\n",
       "\n",
       "    .dataframe tbody tr th {\n",
       "        vertical-align: top;\n",
       "    }\n",
       "\n",
       "    .dataframe thead th {\n",
       "        text-align: right;\n",
       "    }\n",
       "</style>\n",
       "<table border=\"1\" class=\"dataframe\">\n",
       "  <thead>\n",
       "    <tr style=\"text-align: right;\">\n",
       "      <th></th>\n",
       "      <th>tahun</th>\n",
       "      <th>persen_rumah_menyewa</th>\n",
       "      <th>prov</th>\n",
       "    </tr>\n",
       "  </thead>\n",
       "  <tbody>\n",
       "    <tr>\n",
       "      <th>0</th>\n",
       "      <td>2021</td>\n",
       "      <td>6.86</td>\n",
       "      <td>ACEH</td>\n",
       "    </tr>\n",
       "    <tr>\n",
       "      <th>1</th>\n",
       "      <td>2021</td>\n",
       "      <td>14.13</td>\n",
       "      <td>SUMATERA UTARA</td>\n",
       "    </tr>\n",
       "    <tr>\n",
       "      <th>2</th>\n",
       "      <td>2021</td>\n",
       "      <td>11.37</td>\n",
       "      <td>SUMATERA BARAT</td>\n",
       "    </tr>\n",
       "    <tr>\n",
       "      <th>3</th>\n",
       "      <td>2021</td>\n",
       "      <td>11.82</td>\n",
       "      <td>RIAU</td>\n",
       "    </tr>\n",
       "    <tr>\n",
       "      <th>4</th>\n",
       "      <td>2021</td>\n",
       "      <td>5.95</td>\n",
       "      <td>JAMBI</td>\n",
       "    </tr>\n",
       "  </tbody>\n",
       "</table>\n",
       "</div>"
      ],
      "text/plain": [
       "   tahun  persen_rumah_menyewa            prov\n",
       "0   2021                  6.86            ACEH\n",
       "1   2021                 14.13  SUMATERA UTARA\n",
       "2   2021                 11.37  SUMATERA BARAT\n",
       "3   2021                 11.82            RIAU\n",
       "4   2021                  5.95           JAMBI"
      ]
     },
     "execution_count": 11,
     "metadata": {},
     "output_type": "execute_result"
    }
   ],
   "source": [
    "# Tampilkan sebagian kecil data\n",
    "df_RumahSewa.head(5)"
   ]
  },
  {
   "cell_type": "code",
   "execution_count": 12,
   "id": "6a52a1da",
   "metadata": {},
   "outputs": [],
   "source": [
    "# Gabungkan data kelas target dengan rumah sewa\n",
    "df_merge_1 = pd.merge(df_pmiTarget, df_RumahSewa, on=[\"tahun\", \"prov\"], how='left')"
   ]
  },
  {
   "cell_type": "code",
   "execution_count": 13,
   "id": "b6ae7f27",
   "metadata": {},
   "outputs": [
    {
     "name": "stdout",
     "output_type": "stream",
     "text": [
      "<class 'pandas.core.frame.DataFrame'>\n",
      "Int64Index: 442 entries, 0 to 441\n",
      "Data columns (total 4 columns):\n",
      " #   Column                Non-Null Count  Dtype  \n",
      "---  ------                --------------  -----  \n",
      " 0   prov                  442 non-null    object \n",
      " 1   tahun                 442 non-null    int64  \n",
      " 2   kategori_pmi          442 non-null    object \n",
      " 3   persen_rumah_menyewa  238 non-null    float64\n",
      "dtypes: float64(1), int64(1), object(2)\n",
      "memory usage: 17.3+ KB\n"
     ]
    }
   ],
   "source": [
    "# Cek jumlah data dan type data dari merge pertama\n",
    "df_merge_1.info()"
   ]
  },
  {
   "cell_type": "code",
   "execution_count": 14,
   "id": "a4c8c670",
   "metadata": {},
   "outputs": [
    {
     "data": {
      "text/html": [
       "<div>\n",
       "<style scoped>\n",
       "    .dataframe tbody tr th:only-of-type {\n",
       "        vertical-align: middle;\n",
       "    }\n",
       "\n",
       "    .dataframe tbody tr th {\n",
       "        vertical-align: top;\n",
       "    }\n",
       "\n",
       "    .dataframe thead th {\n",
       "        text-align: right;\n",
       "    }\n",
       "</style>\n",
       "<table border=\"1\" class=\"dataframe\">\n",
       "  <thead>\n",
       "    <tr style=\"text-align: right;\">\n",
       "      <th></th>\n",
       "      <th>prov</th>\n",
       "      <th>tahun</th>\n",
       "      <th>kategori_pmi</th>\n",
       "      <th>persen_rumah_menyewa</th>\n",
       "    </tr>\n",
       "  </thead>\n",
       "  <tbody>\n",
       "    <tr>\n",
       "      <th>0</th>\n",
       "      <td>ACEH</td>\n",
       "      <td>2022</td>\n",
       "      <td>TINGGI</td>\n",
       "      <td>NaN</td>\n",
       "    </tr>\n",
       "    <tr>\n",
       "      <th>1</th>\n",
       "      <td>SUMATERA UTARA</td>\n",
       "      <td>2022</td>\n",
       "      <td>TINGGI</td>\n",
       "      <td>NaN</td>\n",
       "    </tr>\n",
       "    <tr>\n",
       "      <th>2</th>\n",
       "      <td>SUMATERA BARAT</td>\n",
       "      <td>2022</td>\n",
       "      <td>TINGGI</td>\n",
       "      <td>NaN</td>\n",
       "    </tr>\n",
       "    <tr>\n",
       "      <th>3</th>\n",
       "      <td>RIAU</td>\n",
       "      <td>2022</td>\n",
       "      <td>TINGGI</td>\n",
       "      <td>NaN</td>\n",
       "    </tr>\n",
       "    <tr>\n",
       "      <th>4</th>\n",
       "      <td>JAMBI</td>\n",
       "      <td>2022</td>\n",
       "      <td>TINGGI</td>\n",
       "      <td>NaN</td>\n",
       "    </tr>\n",
       "  </tbody>\n",
       "</table>\n",
       "</div>"
      ],
      "text/plain": [
       "             prov  tahun kategori_pmi  persen_rumah_menyewa\n",
       "0            ACEH   2022       TINGGI                   NaN\n",
       "1  SUMATERA UTARA   2022       TINGGI                   NaN\n",
       "2  SUMATERA BARAT   2022       TINGGI                   NaN\n",
       "3            RIAU   2022       TINGGI                   NaN\n",
       "4           JAMBI   2022       TINGGI                   NaN"
      ]
     },
     "execution_count": 14,
     "metadata": {},
     "output_type": "execute_result"
    }
   ],
   "source": [
    "# Tampilkan sebagian kecil data dari merge 1\n",
    "df_merge_1.head(5)"
   ]
  },
  {
   "cell_type": "code",
   "execution_count": 15,
   "id": "474da55d",
   "metadata": {},
   "outputs": [],
   "source": [
    "# Merge kembali data dari merge pertama dengan df kepadatan\n",
    "df_gabung = pd.merge(df_merge_1, df_Kepadatan, on=[\"tahun\", \"prov\"], how='left')"
   ]
  },
  {
   "cell_type": "code",
   "execution_count": 16,
   "id": "5552483f",
   "metadata": {},
   "outputs": [
    {
     "name": "stdout",
     "output_type": "stream",
     "text": [
      "<class 'pandas.core.frame.DataFrame'>\n",
      "Int64Index: 442 entries, 0 to 441\n",
      "Data columns (total 5 columns):\n",
      " #   Column                Non-Null Count  Dtype  \n",
      "---  ------                --------------  -----  \n",
      " 0   prov                  442 non-null    object \n",
      " 1   tahun                 442 non-null    int64  \n",
      " 2   kategori_pmi          442 non-null    object \n",
      " 3   persen_rumah_menyewa  238 non-null    float64\n",
      " 4   kepadatan_penduduk    272 non-null    object \n",
      "dtypes: float64(1), int64(1), object(3)\n",
      "memory usage: 20.7+ KB\n"
     ]
    }
   ],
   "source": [
    "# cek kembali jumlah data dan type data\n",
    "df_gabung.info()"
   ]
  },
  {
   "cell_type": "code",
   "execution_count": 17,
   "id": "5ca63f88",
   "metadata": {},
   "outputs": [
    {
     "data": {
      "text/html": [
       "<div>\n",
       "<style scoped>\n",
       "    .dataframe tbody tr th:only-of-type {\n",
       "        vertical-align: middle;\n",
       "    }\n",
       "\n",
       "    .dataframe tbody tr th {\n",
       "        vertical-align: top;\n",
       "    }\n",
       "\n",
       "    .dataframe thead th {\n",
       "        text-align: right;\n",
       "    }\n",
       "</style>\n",
       "<table border=\"1\" class=\"dataframe\">\n",
       "  <thead>\n",
       "    <tr style=\"text-align: right;\">\n",
       "      <th></th>\n",
       "      <th>prov</th>\n",
       "      <th>tahun</th>\n",
       "      <th>kategori_pmi</th>\n",
       "      <th>persen_rumah_menyewa</th>\n",
       "      <th>kepadatan_penduduk</th>\n",
       "    </tr>\n",
       "  </thead>\n",
       "  <tbody>\n",
       "    <tr>\n",
       "      <th>0</th>\n",
       "      <td>ACEH</td>\n",
       "      <td>2022</td>\n",
       "      <td>TINGGI</td>\n",
       "      <td>NaN</td>\n",
       "      <td>NaN</td>\n",
       "    </tr>\n",
       "    <tr>\n",
       "      <th>1</th>\n",
       "      <td>SUMATERA UTARA</td>\n",
       "      <td>2022</td>\n",
       "      <td>TINGGI</td>\n",
       "      <td>NaN</td>\n",
       "      <td>NaN</td>\n",
       "    </tr>\n",
       "    <tr>\n",
       "      <th>2</th>\n",
       "      <td>SUMATERA BARAT</td>\n",
       "      <td>2022</td>\n",
       "      <td>TINGGI</td>\n",
       "      <td>NaN</td>\n",
       "      <td>NaN</td>\n",
       "    </tr>\n",
       "    <tr>\n",
       "      <th>3</th>\n",
       "      <td>RIAU</td>\n",
       "      <td>2022</td>\n",
       "      <td>TINGGI</td>\n",
       "      <td>NaN</td>\n",
       "      <td>NaN</td>\n",
       "    </tr>\n",
       "    <tr>\n",
       "      <th>4</th>\n",
       "      <td>JAMBI</td>\n",
       "      <td>2022</td>\n",
       "      <td>TINGGI</td>\n",
       "      <td>NaN</td>\n",
       "      <td>NaN</td>\n",
       "    </tr>\n",
       "  </tbody>\n",
       "</table>\n",
       "</div>"
      ],
      "text/plain": [
       "             prov  tahun kategori_pmi  persen_rumah_menyewa kepadatan_penduduk\n",
       "0            ACEH   2022       TINGGI                   NaN                NaN\n",
       "1  SUMATERA UTARA   2022       TINGGI                   NaN                NaN\n",
       "2  SUMATERA BARAT   2022       TINGGI                   NaN                NaN\n",
       "3            RIAU   2022       TINGGI                   NaN                NaN\n",
       "4           JAMBI   2022       TINGGI                   NaN                NaN"
      ]
     },
     "execution_count": 17,
     "metadata": {},
     "output_type": "execute_result"
    }
   ],
   "source": [
    "# Tampilkan data\n",
    "df_gabung.head(5)"
   ]
  },
  {
   "cell_type": "code",
   "execution_count": 18,
   "id": "3704fe13",
   "metadata": {},
   "outputs": [
    {
     "data": {
      "text/plain": [
       "prov                      0\n",
       "tahun                     0\n",
       "kategori_pmi              0\n",
       "persen_rumah_menyewa    204\n",
       "kepadatan_penduduk      170\n",
       "dtype: int64"
      ]
     },
     "execution_count": 18,
     "metadata": {},
     "output_type": "execute_result"
    }
   ],
   "source": [
    "# Cek jumlah null\n",
    "df_gabung.isna().sum()"
   ]
  },
  {
   "cell_type": "code",
   "execution_count": 19,
   "id": "669b2e2b",
   "metadata": {},
   "outputs": [],
   "source": [
    "# Import data persen anak dengan akte lahir\n",
    "df_persenAnak = pd.read_csv(\"C:\\\\Users\\\\raisy\\\\Downloads\\\\dataset_uas_datamining_jan_23\\\\persen_anak_dengan_akte_lahir.csv\")"
   ]
  },
  {
   "cell_type": "code",
   "execution_count": 20,
   "id": "d0c9ee28",
   "metadata": {},
   "outputs": [
    {
     "name": "stdout",
     "output_type": "stream",
     "text": [
      "<class 'pandas.core.frame.DataFrame'>\n",
      "RangeIndex: 245 entries, 0 to 244\n",
      "Data columns (total 3 columns):\n",
      " #   Column                         Non-Null Count  Dtype  \n",
      "---  ------                         --------------  -----  \n",
      " 0   tahun                          245 non-null    int64  \n",
      " 1   persen_anak_dengan_akte_lahir  245 non-null    float64\n",
      " 2   prov                           245 non-null    object \n",
      "dtypes: float64(1), int64(1), object(1)\n",
      "memory usage: 5.9+ KB\n"
     ]
    }
   ],
   "source": [
    "# Cek jumlah data dan type data\n",
    "df_persenAnak.info()"
   ]
  },
  {
   "cell_type": "code",
   "execution_count": 21,
   "id": "3f6192b6",
   "metadata": {},
   "outputs": [
    {
     "data": {
      "text/html": [
       "<div>\n",
       "<style scoped>\n",
       "    .dataframe tbody tr th:only-of-type {\n",
       "        vertical-align: middle;\n",
       "    }\n",
       "\n",
       "    .dataframe tbody tr th {\n",
       "        vertical-align: top;\n",
       "    }\n",
       "\n",
       "    .dataframe thead th {\n",
       "        text-align: right;\n",
       "    }\n",
       "</style>\n",
       "<table border=\"1\" class=\"dataframe\">\n",
       "  <thead>\n",
       "    <tr style=\"text-align: right;\">\n",
       "      <th></th>\n",
       "      <th>tahun</th>\n",
       "      <th>persen_anak_dengan_akte_lahir</th>\n",
       "      <th>prov</th>\n",
       "    </tr>\n",
       "  </thead>\n",
       "  <tbody>\n",
       "    <tr>\n",
       "      <th>0</th>\n",
       "      <td>2021</td>\n",
       "      <td>94.52</td>\n",
       "      <td>ACEH</td>\n",
       "    </tr>\n",
       "    <tr>\n",
       "      <th>1</th>\n",
       "      <td>2021</td>\n",
       "      <td>83.02</td>\n",
       "      <td>SUMATERA UTARA</td>\n",
       "    </tr>\n",
       "    <tr>\n",
       "      <th>2</th>\n",
       "      <td>2021</td>\n",
       "      <td>91.38</td>\n",
       "      <td>SUMATERA BARAT</td>\n",
       "    </tr>\n",
       "    <tr>\n",
       "      <th>3</th>\n",
       "      <td>2021</td>\n",
       "      <td>84.25</td>\n",
       "      <td>RIAU</td>\n",
       "    </tr>\n",
       "    <tr>\n",
       "      <th>4</th>\n",
       "      <td>2021</td>\n",
       "      <td>93.37</td>\n",
       "      <td>JAMBI</td>\n",
       "    </tr>\n",
       "  </tbody>\n",
       "</table>\n",
       "</div>"
      ],
      "text/plain": [
       "   tahun  persen_anak_dengan_akte_lahir            prov\n",
       "0   2021                          94.52            ACEH\n",
       "1   2021                          83.02  SUMATERA UTARA\n",
       "2   2021                          91.38  SUMATERA BARAT\n",
       "3   2021                          84.25            RIAU\n",
       "4   2021                          93.37           JAMBI"
      ]
     },
     "execution_count": 21,
     "metadata": {},
     "output_type": "execute_result"
    }
   ],
   "source": [
    "# Tampilkan data\n",
    "df_persenAnak.head(5)"
   ]
  },
  {
   "cell_type": "code",
   "execution_count": 22,
   "id": "be4b0bfd",
   "metadata": {},
   "outputs": [],
   "source": [
    "# Gabungkan data dari merge kedua (df_gabung) dengan df persen anak\n",
    "df_gabung_2 = pd.merge(df_gabung, df_persenAnak, on=[\"tahun\", \"prov\"], how='left')"
   ]
  },
  {
   "cell_type": "code",
   "execution_count": 23,
   "id": "fe7ddfad",
   "metadata": {},
   "outputs": [
    {
     "data": {
      "text/html": [
       "<div>\n",
       "<style scoped>\n",
       "    .dataframe tbody tr th:only-of-type {\n",
       "        vertical-align: middle;\n",
       "    }\n",
       "\n",
       "    .dataframe tbody tr th {\n",
       "        vertical-align: top;\n",
       "    }\n",
       "\n",
       "    .dataframe thead th {\n",
       "        text-align: right;\n",
       "    }\n",
       "</style>\n",
       "<table border=\"1\" class=\"dataframe\">\n",
       "  <thead>\n",
       "    <tr style=\"text-align: right;\">\n",
       "      <th></th>\n",
       "      <th>prov</th>\n",
       "      <th>tahun</th>\n",
       "      <th>kategori_pmi</th>\n",
       "      <th>persen_rumah_menyewa</th>\n",
       "      <th>kepadatan_penduduk</th>\n",
       "      <th>persen_anak_dengan_akte_lahir</th>\n",
       "    </tr>\n",
       "  </thead>\n",
       "  <tbody>\n",
       "    <tr>\n",
       "      <th>0</th>\n",
       "      <td>ACEH</td>\n",
       "      <td>2022</td>\n",
       "      <td>TINGGI</td>\n",
       "      <td>NaN</td>\n",
       "      <td>NaN</td>\n",
       "      <td>NaN</td>\n",
       "    </tr>\n",
       "    <tr>\n",
       "      <th>1</th>\n",
       "      <td>SUMATERA UTARA</td>\n",
       "      <td>2022</td>\n",
       "      <td>TINGGI</td>\n",
       "      <td>NaN</td>\n",
       "      <td>NaN</td>\n",
       "      <td>NaN</td>\n",
       "    </tr>\n",
       "    <tr>\n",
       "      <th>2</th>\n",
       "      <td>SUMATERA BARAT</td>\n",
       "      <td>2022</td>\n",
       "      <td>TINGGI</td>\n",
       "      <td>NaN</td>\n",
       "      <td>NaN</td>\n",
       "      <td>NaN</td>\n",
       "    </tr>\n",
       "    <tr>\n",
       "      <th>3</th>\n",
       "      <td>RIAU</td>\n",
       "      <td>2022</td>\n",
       "      <td>TINGGI</td>\n",
       "      <td>NaN</td>\n",
       "      <td>NaN</td>\n",
       "      <td>NaN</td>\n",
       "    </tr>\n",
       "    <tr>\n",
       "      <th>4</th>\n",
       "      <td>JAMBI</td>\n",
       "      <td>2022</td>\n",
       "      <td>TINGGI</td>\n",
       "      <td>NaN</td>\n",
       "      <td>NaN</td>\n",
       "      <td>NaN</td>\n",
       "    </tr>\n",
       "    <tr>\n",
       "      <th>...</th>\n",
       "      <td>...</td>\n",
       "      <td>...</td>\n",
       "      <td>...</td>\n",
       "      <td>...</td>\n",
       "      <td>...</td>\n",
       "      <td>...</td>\n",
       "    </tr>\n",
       "    <tr>\n",
       "      <th>437</th>\n",
       "      <td>SULAWESI BARAT</td>\n",
       "      <td>2010</td>\n",
       "      <td>SANGAT RENDAH</td>\n",
       "      <td>NaN</td>\n",
       "      <td>69</td>\n",
       "      <td>NaN</td>\n",
       "    </tr>\n",
       "    <tr>\n",
       "      <th>438</th>\n",
       "      <td>MALUKU</td>\n",
       "      <td>2010</td>\n",
       "      <td>SEDANG</td>\n",
       "      <td>NaN</td>\n",
       "      <td>33</td>\n",
       "      <td>NaN</td>\n",
       "    </tr>\n",
       "    <tr>\n",
       "      <th>439</th>\n",
       "      <td>MALUKU UTARA</td>\n",
       "      <td>2010</td>\n",
       "      <td>SEDANG</td>\n",
       "      <td>NaN</td>\n",
       "      <td>33</td>\n",
       "      <td>NaN</td>\n",
       "    </tr>\n",
       "    <tr>\n",
       "      <th>440</th>\n",
       "      <td>PAPUA BARAT</td>\n",
       "      <td>2010</td>\n",
       "      <td>SANGAT RENDAH</td>\n",
       "      <td>NaN</td>\n",
       "      <td>8</td>\n",
       "      <td>NaN</td>\n",
       "    </tr>\n",
       "    <tr>\n",
       "      <th>441</th>\n",
       "      <td>PAPUA</td>\n",
       "      <td>2010</td>\n",
       "      <td>SANGAT RENDAH</td>\n",
       "      <td>NaN</td>\n",
       "      <td>9</td>\n",
       "      <td>NaN</td>\n",
       "    </tr>\n",
       "  </tbody>\n",
       "</table>\n",
       "<p>442 rows × 6 columns</p>\n",
       "</div>"
      ],
      "text/plain": [
       "               prov  tahun   kategori_pmi  persen_rumah_menyewa  \\\n",
       "0              ACEH   2022         TINGGI                   NaN   \n",
       "1    SUMATERA UTARA   2022         TINGGI                   NaN   \n",
       "2    SUMATERA BARAT   2022         TINGGI                   NaN   \n",
       "3              RIAU   2022         TINGGI                   NaN   \n",
       "4             JAMBI   2022         TINGGI                   NaN   \n",
       "..              ...    ...            ...                   ...   \n",
       "437  SULAWESI BARAT   2010  SANGAT RENDAH                   NaN   \n",
       "438          MALUKU   2010         SEDANG                   NaN   \n",
       "439    MALUKU UTARA   2010         SEDANG                   NaN   \n",
       "440     PAPUA BARAT   2010  SANGAT RENDAH                   NaN   \n",
       "441           PAPUA   2010  SANGAT RENDAH                   NaN   \n",
       "\n",
       "    kepadatan_penduduk  persen_anak_dengan_akte_lahir  \n",
       "0                  NaN                            NaN  \n",
       "1                  NaN                            NaN  \n",
       "2                  NaN                            NaN  \n",
       "3                  NaN                            NaN  \n",
       "4                  NaN                            NaN  \n",
       "..                 ...                            ...  \n",
       "437                 69                            NaN  \n",
       "438                 33                            NaN  \n",
       "439                 33                            NaN  \n",
       "440                  8                            NaN  \n",
       "441                  9                            NaN  \n",
       "\n",
       "[442 rows x 6 columns]"
      ]
     },
     "execution_count": 23,
     "metadata": {},
     "output_type": "execute_result"
    }
   ],
   "source": [
    "# tampilkan hasil datanya\n",
    "df_gabung_2"
   ]
  },
  {
   "cell_type": "code",
   "execution_count": 24,
   "id": "6fd0c191",
   "metadata": {},
   "outputs": [
    {
     "name": "stdout",
     "output_type": "stream",
     "text": [
      "<class 'pandas.core.frame.DataFrame'>\n",
      "Int64Index: 442 entries, 0 to 441\n",
      "Data columns (total 6 columns):\n",
      " #   Column                         Non-Null Count  Dtype  \n",
      "---  ------                         --------------  -----  \n",
      " 0   prov                           442 non-null    object \n",
      " 1   tahun                          442 non-null    int64  \n",
      " 2   kategori_pmi                   442 non-null    object \n",
      " 3   persen_rumah_menyewa           238 non-null    float64\n",
      " 4   kepadatan_penduduk             272 non-null    object \n",
      " 5   persen_anak_dengan_akte_lahir  238 non-null    float64\n",
      "dtypes: float64(2), int64(1), object(3)\n",
      "memory usage: 24.2+ KB\n"
     ]
    }
   ],
   "source": [
    "# Cek data nya\n",
    "df_gabung_2.info()"
   ]
  },
  {
   "cell_type": "code",
   "execution_count": 25,
   "id": "22a2f60c",
   "metadata": {},
   "outputs": [
    {
     "data": {
      "text/plain": [
       "prov                               0\n",
       "tahun                              0\n",
       "kategori_pmi                       0\n",
       "persen_rumah_menyewa             204\n",
       "kepadatan_penduduk               170\n",
       "persen_anak_dengan_akte_lahir    204\n",
       "dtype: int64"
      ]
     },
     "execution_count": 25,
     "metadata": {},
     "output_type": "execute_result"
    }
   ],
   "source": [
    "# Cek jumlah nullnya\n",
    "df_gabung_2.isna().sum()"
   ]
  },
  {
   "cell_type": "code",
   "execution_count": 26,
   "id": "6ef75125",
   "metadata": {},
   "outputs": [],
   "source": [
    "# Proses ubah type data, disini diubah kedalam type category karena, menurut saya dari kolom dibawah, type data yg cocok\n",
    "# adalah type data category, kecuali kepadatan penduduk\n",
    "df_gabung_2['kepadatan_penduduk'] = df_gabung_2['kepadatan_penduduk'].astype('category')\n",
    "df_gabung_2['prov'] = df_gabung_2['prov'].astype('category')\n",
    "df_gabung_2['kategori_pmi'] = df_gabung_2['kategori_pmi'].astype('category')"
   ]
  },
  {
   "cell_type": "code",
   "execution_count": 27,
   "id": "6d116bff",
   "metadata": {},
   "outputs": [],
   "source": [
    "# Proses mengubah kolom kepdatan kedalam bentuk int\n",
    "df_gabung_2['kepadatan_penduduk'] = pd.to_numeric(df_gabung_2['kepadatan_penduduk'], errors='coerce').convert_dtypes()"
   ]
  },
  {
   "cell_type": "code",
   "execution_count": 28,
   "id": "2061ec50",
   "metadata": {},
   "outputs": [
    {
     "data": {
      "text/html": [
       "<div>\n",
       "<style scoped>\n",
       "    .dataframe tbody tr th:only-of-type {\n",
       "        vertical-align: middle;\n",
       "    }\n",
       "\n",
       "    .dataframe tbody tr th {\n",
       "        vertical-align: top;\n",
       "    }\n",
       "\n",
       "    .dataframe thead th {\n",
       "        text-align: right;\n",
       "    }\n",
       "</style>\n",
       "<table border=\"1\" class=\"dataframe\">\n",
       "  <thead>\n",
       "    <tr style=\"text-align: right;\">\n",
       "      <th></th>\n",
       "      <th>prov</th>\n",
       "      <th>tahun</th>\n",
       "      <th>kategori_pmi</th>\n",
       "      <th>persen_rumah_menyewa</th>\n",
       "      <th>kepadatan_penduduk</th>\n",
       "      <th>persen_anak_dengan_akte_lahir</th>\n",
       "    </tr>\n",
       "  </thead>\n",
       "  <tbody>\n",
       "    <tr>\n",
       "      <th>0</th>\n",
       "      <td>ACEH</td>\n",
       "      <td>2022</td>\n",
       "      <td>TINGGI</td>\n",
       "      <td>NaN</td>\n",
       "      <td>&lt;NA&gt;</td>\n",
       "      <td>NaN</td>\n",
       "    </tr>\n",
       "    <tr>\n",
       "      <th>1</th>\n",
       "      <td>SUMATERA UTARA</td>\n",
       "      <td>2022</td>\n",
       "      <td>TINGGI</td>\n",
       "      <td>NaN</td>\n",
       "      <td>&lt;NA&gt;</td>\n",
       "      <td>NaN</td>\n",
       "    </tr>\n",
       "    <tr>\n",
       "      <th>2</th>\n",
       "      <td>SUMATERA BARAT</td>\n",
       "      <td>2022</td>\n",
       "      <td>TINGGI</td>\n",
       "      <td>NaN</td>\n",
       "      <td>&lt;NA&gt;</td>\n",
       "      <td>NaN</td>\n",
       "    </tr>\n",
       "    <tr>\n",
       "      <th>3</th>\n",
       "      <td>RIAU</td>\n",
       "      <td>2022</td>\n",
       "      <td>TINGGI</td>\n",
       "      <td>NaN</td>\n",
       "      <td>&lt;NA&gt;</td>\n",
       "      <td>NaN</td>\n",
       "    </tr>\n",
       "    <tr>\n",
       "      <th>4</th>\n",
       "      <td>JAMBI</td>\n",
       "      <td>2022</td>\n",
       "      <td>TINGGI</td>\n",
       "      <td>NaN</td>\n",
       "      <td>&lt;NA&gt;</td>\n",
       "      <td>NaN</td>\n",
       "    </tr>\n",
       "  </tbody>\n",
       "</table>\n",
       "</div>"
      ],
      "text/plain": [
       "             prov  tahun kategori_pmi  persen_rumah_menyewa  \\\n",
       "0            ACEH   2022       TINGGI                   NaN   \n",
       "1  SUMATERA UTARA   2022       TINGGI                   NaN   \n",
       "2  SUMATERA BARAT   2022       TINGGI                   NaN   \n",
       "3            RIAU   2022       TINGGI                   NaN   \n",
       "4           JAMBI   2022       TINGGI                   NaN   \n",
       "\n",
       "   kepadatan_penduduk  persen_anak_dengan_akte_lahir  \n",
       "0                <NA>                            NaN  \n",
       "1                <NA>                            NaN  \n",
       "2                <NA>                            NaN  \n",
       "3                <NA>                            NaN  \n",
       "4                <NA>                            NaN  "
      ]
     },
     "execution_count": 28,
     "metadata": {},
     "output_type": "execute_result"
    }
   ],
   "source": [
    "df_gabung_2.head(5)"
   ]
  },
  {
   "cell_type": "code",
   "execution_count": 29,
   "id": "65c438e5",
   "metadata": {},
   "outputs": [
    {
     "data": {
      "text/plain": [
       "720.8"
      ]
     },
     "execution_count": 29,
     "metadata": {},
     "output_type": "execute_result"
    }
   ],
   "source": [
    "# Cek mean dari data yang null atau yang akan dipraproses\n",
    "df_gabung_2['kepadatan_penduduk'].mean()"
   ]
  },
  {
   "cell_type": "code",
   "execution_count": 30,
   "id": "e2bf850a",
   "metadata": {},
   "outputs": [
    {
     "data": {
      "text/plain": [
       "9"
      ]
     },
     "execution_count": 30,
     "metadata": {},
     "output_type": "execute_result"
    }
   ],
   "source": [
    "# Cek modus dari data yang akan dipraproses\n",
    "df_gabung_2['kepadatan_penduduk'].mode()[0]"
   ]
  },
  {
   "cell_type": "code",
   "execution_count": 31,
   "id": "3a05d772",
   "metadata": {},
   "outputs": [
    {
     "data": {
      "text/plain": [
       "98.5"
      ]
     },
     "execution_count": 31,
     "metadata": {},
     "output_type": "execute_result"
    }
   ],
   "source": [
    "# Cek median dari data yang akan dipraproses\n",
    "df_gabung_2['kepadatan_penduduk'].median()"
   ]
  },
  {
   "cell_type": "code",
   "execution_count": 32,
   "id": "273cebca",
   "metadata": {},
   "outputs": [
    {
     "data": {
      "text/plain": [
       "0      <NA>\n",
       "1      <NA>\n",
       "2      <NA>\n",
       "3      <NA>\n",
       "4      <NA>\n",
       "5      <NA>\n",
       "6      <NA>\n",
       "7      <NA>\n",
       "8      <NA>\n",
       "9      <NA>\n",
       "10     <NA>\n",
       "11     <NA>\n",
       "12     <NA>\n",
       "13     <NA>\n",
       "14     <NA>\n",
       "15     <NA>\n",
       "16     <NA>\n",
       "17     <NA>\n",
       "18     <NA>\n",
       "19     <NA>\n",
       "20     <NA>\n",
       "21     <NA>\n",
       "22     <NA>\n",
       "23     <NA>\n",
       "24     <NA>\n",
       "25     <NA>\n",
       "26     <NA>\n",
       "27     <NA>\n",
       "28     <NA>\n",
       "29     <NA>\n",
       "30     <NA>\n",
       "31     <NA>\n",
       "32     <NA>\n",
       "33     <NA>\n",
       "34       92\n",
       "35      205\n",
       "36      133\n",
       "37       75\n",
       "38       72\n",
       "39       93\n",
       "40      102\n",
       "41      262\n",
       "42       90\n",
       "43      258\n",
       "44    15978\n",
       "45     1379\n",
       "46     1120\n",
       "47     1185\n",
       "48      855\n",
       "49     1248\n",
       "Name: kepadatan_penduduk, dtype: Int64"
      ]
     },
     "execution_count": 32,
     "metadata": {},
     "output_type": "execute_result"
    }
   ],
   "source": [
    "# Menampilkan data yang mana masih menunjukkan ada data yang kosong\n",
    "df_gabung_2['kepadatan_penduduk'].head(50)"
   ]
  },
  {
   "cell_type": "markdown",
   "id": "04030324",
   "metadata": {},
   "source": [
    "Karena data yang ada pada kolom kepadatan penduduk itu lumayan besar, maka dari itu saya memutuskan untuk mengisi data kosong pada kolom kepadatan dengan rata rata, karena, asumsi kolom kepadatan menurut saya, bisa ditarik memakai data rata ratanya"
   ]
  },
  {
   "cell_type": "code",
   "execution_count": 33,
   "id": "b29a95f6",
   "metadata": {},
   "outputs": [],
   "source": [
    "tempNa = df_gabung_2.dropna()"
   ]
  },
  {
   "cell_type": "code",
   "execution_count": 34,
   "id": "e3d146cf",
   "metadata": {},
   "outputs": [
    {
     "data": {
      "text/plain": [
       "34       92\n",
       "35      205\n",
       "36      133\n",
       "37       75\n",
       "38       72\n",
       "39       93\n",
       "40      102\n",
       "41      262\n",
       "42       90\n",
       "43      258\n",
       "44    15978\n",
       "45     1379\n",
       "46     1120\n",
       "47     1185\n",
       "48      855\n",
       "Name: kepadatan_penduduk, dtype: Int64"
      ]
     },
     "execution_count": 34,
     "metadata": {},
     "output_type": "execute_result"
    }
   ],
   "source": [
    "tempNa['kepadatan_penduduk'].head(15)"
   ]
  },
  {
   "cell_type": "markdown",
   "id": "f3648035",
   "metadata": {},
   "source": [
    "proses diatas merupakan penunjukkan data dari kolom kepadatan"
   ]
  },
  {
   "cell_type": "code",
   "execution_count": 35,
   "id": "912b4ea8",
   "metadata": {},
   "outputs": [],
   "source": [
    "# Proses mengisi data null dengan mean\n",
    "df_gabung_2['kepadatan_penduduk'] = df_gabung_2['kepadatan_penduduk'].fillna(value=int(df_gabung_2['kepadatan_penduduk'].mean()), inplace=False)"
   ]
  },
  {
   "cell_type": "code",
   "execution_count": 36,
   "id": "aa34ec64",
   "metadata": {},
   "outputs": [
    {
     "name": "stdout",
     "output_type": "stream",
     "text": [
      "<class 'pandas.core.frame.DataFrame'>\n",
      "Int64Index: 442 entries, 0 to 441\n",
      "Data columns (total 6 columns):\n",
      " #   Column                         Non-Null Count  Dtype   \n",
      "---  ------                         --------------  -----   \n",
      " 0   prov                           442 non-null    category\n",
      " 1   tahun                          442 non-null    int64   \n",
      " 2   kategori_pmi                   442 non-null    category\n",
      " 3   persen_rumah_menyewa           238 non-null    float64 \n",
      " 4   kepadatan_penduduk             442 non-null    Int64   \n",
      " 5   persen_anak_dengan_akte_lahir  238 non-null    float64 \n",
      "dtypes: Int64(1), category(2), float64(2), int64(1)\n",
      "memory usage: 20.1 KB\n"
     ]
    }
   ],
   "source": [
    "df_gabung_2.info()"
   ]
  },
  {
   "cell_type": "code",
   "execution_count": 37,
   "id": "881e1d4d",
   "metadata": {},
   "outputs": [
    {
     "data": {
      "text/plain": [
       "0     720\n",
       "1     720\n",
       "2     720\n",
       "3     720\n",
       "4     720\n",
       "5     720\n",
       "6     720\n",
       "7     720\n",
       "8     720\n",
       "9     720\n",
       "10    720\n",
       "11    720\n",
       "12    720\n",
       "13    720\n",
       "14    720\n",
       "Name: kepadatan_penduduk, dtype: Int64"
      ]
     },
     "execution_count": 37,
     "metadata": {},
     "output_type": "execute_result"
    }
   ],
   "source": [
    "df_gabung_2['kepadatan_penduduk'].head(15)"
   ]
  },
  {
   "cell_type": "code",
   "execution_count": 38,
   "id": "85868f82",
   "metadata": {},
   "outputs": [
    {
     "data": {
      "text/plain": [
       "9.61"
      ]
     },
     "execution_count": 38,
     "metadata": {},
     "output_type": "execute_result"
    }
   ],
   "source": [
    "# Mengecek mean dari kolom tertentu\n",
    "df_gabung_2['persen_rumah_menyewa'].mean()"
   ]
  },
  {
   "cell_type": "code",
   "execution_count": 39,
   "id": "20e7fcf6",
   "metadata": {},
   "outputs": [],
   "source": [
    "# Mengisi data null dengan mean\n",
    "df_gabung_2['persen_rumah_menyewa'] = df_gabung_2['persen_rumah_menyewa'].fillna(value=int(df_gabung_2['persen_rumah_menyewa'].mean()), inplace=False)"
   ]
  },
  {
   "cell_type": "code",
   "execution_count": 40,
   "id": "42a83179",
   "metadata": {},
   "outputs": [
    {
     "data": {
      "text/plain": [
       "14.13"
      ]
     },
     "execution_count": 40,
     "metadata": {},
     "output_type": "execute_result"
    }
   ],
   "source": [
    "df_gabung_2['persen_rumah_menyewa'][35]"
   ]
  },
  {
   "cell_type": "code",
   "execution_count": 41,
   "id": "fe69aaef",
   "metadata": {},
   "outputs": [],
   "source": [
    "# mengisi data kolom tertentu dengan mean\n",
    "df_gabung_2['persen_anak_dengan_akte_lahir'] = df_gabung_2['persen_anak_dengan_akte_lahir'].fillna(value=int(df_gabung_2['persen_anak_dengan_akte_lahir'].mean()), inplace=False)"
   ]
  },
  {
   "cell_type": "code",
   "execution_count": 42,
   "id": "81c33497",
   "metadata": {},
   "outputs": [
    {
     "data": {
      "text/plain": [
       "83.02"
      ]
     },
     "execution_count": 42,
     "metadata": {},
     "output_type": "execute_result"
    }
   ],
   "source": [
    "df_gabung_2['persen_anak_dengan_akte_lahir'][35]"
   ]
  },
  {
   "cell_type": "code",
   "execution_count": 43,
   "id": "f9398c43",
   "metadata": {},
   "outputs": [
    {
     "name": "stdout",
     "output_type": "stream",
     "text": [
      "<class 'pandas.core.frame.DataFrame'>\n",
      "Int64Index: 442 entries, 0 to 441\n",
      "Data columns (total 6 columns):\n",
      " #   Column                         Non-Null Count  Dtype   \n",
      "---  ------                         --------------  -----   \n",
      " 0   prov                           442 non-null    category\n",
      " 1   tahun                          442 non-null    int64   \n",
      " 2   kategori_pmi                   442 non-null    category\n",
      " 3   persen_rumah_menyewa           442 non-null    float64 \n",
      " 4   kepadatan_penduduk             442 non-null    Int64   \n",
      " 5   persen_anak_dengan_akte_lahir  442 non-null    float64 \n",
      "dtypes: Int64(1), category(2), float64(2), int64(1)\n",
      "memory usage: 36.2 KB\n"
     ]
    }
   ],
   "source": [
    "df_gabung_2.info()"
   ]
  },
  {
   "cell_type": "markdown",
   "id": "a070ac8a",
   "metadata": {},
   "source": [
    "boxplot dibawah ini saya gunakan untuk melihat outlier atau nilai ekstrim, dan seperti yang ditunjukkan grafik pada gambar dibawah, dari nilai persen masih terdapat nilai esktrimnya"
   ]
  },
  {
   "cell_type": "code",
   "execution_count": 44,
   "id": "453d1978",
   "metadata": {},
   "outputs": [
    {
     "data": {
      "text/plain": [
       "<AxesSubplot:xlabel='persen_rumah_menyewa'>"
      ]
     },
     "execution_count": 44,
     "metadata": {},
     "output_type": "execute_result"
    },
    {
     "data": {
      "image/png": "[encoded data removed]",
      "text/plain": [
       "<Figure size 432x288 with 1 Axes>"
      ]
     },
     "metadata": {
      "needs_background": "light"
     },
     "output_type": "display_data"
    }
   ],
   "source": [
    "sns.boxplot(x=\"persen_rumah_menyewa\",data=df_gabung_2)"
   ]
  },
  {
   "cell_type": "code",
   "execution_count": 46,
   "id": "fbc1858c",
   "metadata": {},
   "outputs": [
    {
     "data": {
      "text/plain": [
       "array([ 9.  ,  6.86, 14.13, 11.37, 11.82,  5.95,  6.18,  7.03,  3.92,\n",
       "        7.31, 25.95, 34.63,  9.5 ,  2.62, 13.98,  4.55, 11.3 , 19.63,\n",
       "        3.05,  6.42,  3.48,  7.22,  8.19, 16.7 , 16.19,  6.13,  6.06,\n",
       "        4.71,  4.29,  3.9 ,  1.41,  8.67,  6.67, 11.19,  7.87,  6.98,\n",
       "       12.54, 11.44, 13.61,  5.83,  5.13,  7.49,  4.16,  5.76, 26.29,\n",
       "       37.71, 10.68,  2.56, 15.01,  5.65, 11.62, 22.03,  3.38,  5.93,\n",
       "        2.86,  7.57,  9.91, 17.44, 14.09,  5.64,  5.61,  5.31,  5.3 ,\n",
       "        2.46,  2.15,  7.29,  6.63, 13.35,  8.47,  6.69, 14.02, 11.93,\n",
       "       15.4 ,  6.53,  6.09,  7.74,  4.2 ,  5.92, 24.03, 36.36, 11.11,\n",
       "        2.91, 17.53,  6.02, 12.35, 21.03,  3.1 ,  6.  ,  3.19, 10.98,\n",
       "       16.97, 15.94,  6.43,  6.25,  5.2 ,  4.65,  2.16,  6.5 ,  7.36,\n",
       "       14.5 ,  8.85, 12.87, 12.51, 16.  ,  7.06,  7.59,  3.96,  5.25,\n",
       "       23.48, 35.63, 10.5 ,  2.85, 13.71,  5.97, 12.48, 19.99,  3.47,\n",
       "        6.17,  3.39,  7.99, 10.66, 17.9 , 17.69,  6.66,  5.99,  5.36,\n",
       "        5.8 ,  2.92,  2.49,  6.57,  7.32, 14.42,  9.18,  6.61, 13.99,\n",
       "       11.31, 16.04,  7.11,  6.93,  9.3 ,  4.6 ,  6.75, 27.36, 36.27,\n",
       "       11.06,  2.88, 13.57,  5.81, 11.23, 21.39,  2.52,  5.17,  3.6 ,\n",
       "        8.58, 18.45, 16.81,  7.02,  5.98,  6.22,  2.69,  5.47, 13.1 ,\n",
       "        9.02,  6.26, 12.75, 10.55, 15.39,  6.29,  3.21, 24.44, 36.76,\n",
       "        8.71,  2.36, 14.07,  4.32, 13.13, 19.69,  2.78,  4.81,  3.84,\n",
       "        7.69,  9.85, 17.86, 18.88,  4.85,  5.22,  5.55,  2.79,  5.59,\n",
       "       13.28,  6.96,  5.52, 11.76,  9.58, 14.37,  5.91,  6.36,  5.48,\n",
       "        2.87,  4.75, 25.89, 34.13,  8.54,  2.29, 13.58, 13.17, 17.1 ,\n",
       "        2.9 ,  4.04,  2.55,  7.67,  9.77, 15.32, 13.02,  4.78,  4.52,\n",
       "        4.68,  1.77,  4.86, 12.39,  7.79])"
      ]
     },
     "execution_count": 46,
     "metadata": {},
     "output_type": "execute_result"
    }
   ],
   "source": [
    "# Menampilkan data uniq\n",
    "df_gabung_2['persen_rumah_menyewa'].unique()"
   ]
  },
  {
   "cell_type": "code",
   "execution_count": 47,
   "id": "12fa0afe",
   "metadata": {},
   "outputs": [],
   "source": [
    "# Mengimport kembali data melek dan kalori\n",
    "df_melekhuruf = pd.read_csv(\"C:\\\\Users\\\\raisy\\\\Downloads\\\\dataset_uas_datamining_jan_23\\\\melek_huruf_diatas15.csv\")\n",
    "df_persenkalor = pd.read_csv(\"C:\\\\Users\\\\raisy\\\\Downloads\\\\dataset_uas_datamining_jan_23\\\\persen_asupan_kalori_bawah_1400.csv\")"
   ]
  },
  {
   "cell_type": "markdown",
   "id": "b4e8cd38",
   "metadata": {},
   "source": [
    "alasan untuk kenapa saya memilih dataset diatas yaitu kepadatan penduduk, persen menyewa, melek, dan kalori, karena nilai pmi saya kira dapat diprediksi dari nilai penduduknya"
   ]
  },
  {
   "cell_type": "markdown",
   "id": "a1d9016e",
   "metadata": {},
   "source": [
    "Proses merge"
   ]
  },
  {
   "cell_type": "code",
   "execution_count": 48,
   "id": "fb9c611e",
   "metadata": {},
   "outputs": [],
   "source": [
    "df_temp = pd.merge(df_persenkalor, df_melekhuruf, on=[\"tahun\", \"prov\"], how='left')"
   ]
  },
  {
   "cell_type": "code",
   "execution_count": 49,
   "id": "c6120eb2",
   "metadata": {},
   "outputs": [
    {
     "name": "stdout",
     "output_type": "stream",
     "text": [
      "<class 'pandas.core.frame.DataFrame'>\n",
      "Int64Index: 175 entries, 0 to 174\n",
      "Data columns (total 4 columns):\n",
      " #   Column                           Non-Null Count  Dtype  \n",
      "---  ------                           --------------  -----  \n",
      " 0   tahun                            175 non-null    int64  \n",
      " 1   persen_asupan_kalori_bawah_1400  175 non-null    float64\n",
      " 2   prov                             175 non-null    object \n",
      " 3   melek_huruf_diatas15             175 non-null    object \n",
      "dtypes: float64(1), int64(1), object(2)\n",
      "memory usage: 6.8+ KB\n"
     ]
    }
   ],
   "source": [
    "df_temp.info()"
   ]
  },
  {
   "cell_type": "code",
   "execution_count": 50,
   "id": "76a61ac7",
   "metadata": {},
   "outputs": [],
   "source": [
    "df_gabung_2 = pd.merge(df_gabung_2, df_temp, on=[\"tahun\", \"prov\"], how='left')"
   ]
  },
  {
   "cell_type": "code",
   "execution_count": 51,
   "id": "740ab991",
   "metadata": {},
   "outputs": [
    {
     "name": "stdout",
     "output_type": "stream",
     "text": [
      "<class 'pandas.core.frame.DataFrame'>\n",
      "Int64Index: 442 entries, 0 to 441\n",
      "Data columns (total 8 columns):\n",
      " #   Column                           Non-Null Count  Dtype   \n",
      "---  ------                           --------------  -----   \n",
      " 0   prov                             442 non-null    object  \n",
      " 1   tahun                            442 non-null    int64   \n",
      " 2   kategori_pmi                     442 non-null    category\n",
      " 3   persen_rumah_menyewa             442 non-null    float64 \n",
      " 4   kepadatan_penduduk               442 non-null    Int64   \n",
      " 5   persen_anak_dengan_akte_lahir    442 non-null    float64 \n",
      " 6   persen_asupan_kalori_bawah_1400  170 non-null    float64 \n",
      " 7   melek_huruf_diatas15             170 non-null    object  \n",
      "dtypes: Int64(1), category(1), float64(3), int64(1), object(2)\n",
      "memory usage: 28.7+ KB\n"
     ]
    }
   ],
   "source": [
    "df_gabung_2.info()"
   ]
  },
  {
   "cell_type": "code",
   "execution_count": 52,
   "id": "6ec90555",
   "metadata": {},
   "outputs": [],
   "source": [
    "df_gabung_2['persen_asupan_kalori_bawah_1400'] = df_gabung_2['persen_asupan_kalori_bawah_1400'].fillna(value=int(df_gabung_2['persen_asupan_kalori_bawah_1400'].mean()), inplace=False)"
   ]
  },
  {
   "cell_type": "code",
   "execution_count": 53,
   "id": "867a4927",
   "metadata": {},
   "outputs": [],
   "source": [
    "df_gabung_2['melek_huruf_diatas15'] = pd.to_numeric(df_gabung_2['melek_huruf_diatas15'], errors='coerce').convert_dtypes()\n",
    "df_gabung_2['melek_huruf_diatas15'] = df_gabung_2['melek_huruf_diatas15'].fillna(value=int(df_gabung_2['melek_huruf_diatas15'].mean()), inplace=False)"
   ]
  },
  {
   "cell_type": "code",
   "execution_count": 54,
   "id": "97384ca4",
   "metadata": {},
   "outputs": [],
   "source": [
    "df_gabung_2['prov'] = df_gabung_2['prov'].astype('category')"
   ]
  },
  {
   "cell_type": "code",
   "execution_count": 55,
   "id": "b272b587",
   "metadata": {},
   "outputs": [],
   "source": [
    "df_gabung_2['kepadatan_penduduk'] = pd.to_numeric(df_gabung_2['kepadatan_penduduk'], errors='coerce').convert_dtypes()"
   ]
  },
  {
   "cell_type": "code",
   "execution_count": 56,
   "id": "5a4799e4",
   "metadata": {},
   "outputs": [
    {
     "name": "stdout",
     "output_type": "stream",
     "text": [
      "<class 'pandas.core.frame.DataFrame'>\n",
      "Int64Index: 442 entries, 0 to 441\n",
      "Data columns (total 8 columns):\n",
      " #   Column                           Non-Null Count  Dtype   \n",
      "---  ------                           --------------  -----   \n",
      " 0   prov                             442 non-null    category\n",
      " 1   tahun                            442 non-null    int64   \n",
      " 2   kategori_pmi                     442 non-null    category\n",
      " 3   persen_rumah_menyewa             442 non-null    float64 \n",
      " 4   kepadatan_penduduk               442 non-null    Int64   \n",
      " 5   persen_anak_dengan_akte_lahir    442 non-null    float64 \n",
      " 6   persen_asupan_kalori_bawah_1400  442 non-null    float64 \n",
      " 7   melek_huruf_diatas15             442 non-null    Float64 \n",
      "dtypes: Float64(1), Int64(1), category(2), float64(3), int64(1)\n",
      "memory usage: 27.4 KB\n"
     ]
    }
   ],
   "source": [
    "df_gabung_2.info()"
   ]
  },
  {
   "cell_type": "code",
   "execution_count": 57,
   "id": "25d9e7c0",
   "metadata": {},
   "outputs": [
    {
     "data": {
      "text/plain": [
       "1.41"
      ]
     },
     "execution_count": 57,
     "metadata": {},
     "output_type": "execute_result"
    }
   ],
   "source": [
    "df_gabung_2['persen_rumah_menyewa'].min()"
   ]
  },
  {
   "cell_type": "code",
   "execution_count": 58,
   "id": "be9081cd",
   "metadata": {},
   "outputs": [
    {
     "data": {
      "text/plain": [
       "37.71"
      ]
     },
     "execution_count": 58,
     "metadata": {},
     "output_type": "execute_result"
    }
   ],
   "source": [
    "df_gabung_2['persen_rumah_menyewa'].max()"
   ]
  },
  {
   "cell_type": "markdown",
   "id": "bfab342f",
   "metadata": {},
   "source": [
    "Disini saya membuat asumsi, karena data prsen rumah menyewa paling rendah itu 1. dan paling tinggi itu adalah 37., maka saya menarik data tersebut dijadikan int, untuk dikelompokkan, agar pada proses EDA dapat ditampilkan"
   ]
  },
  {
   "cell_type": "code",
   "execution_count": 59,
   "id": "1ddef035",
   "metadata": {},
   "outputs": [],
   "source": [
    "df_temp_prsnsewa = df_gabung_2\n",
    "\n",
    "df_temp_prsnsewa['persen_rumah_menyewa'] = pd.to_numeric(df_temp_prsnsewa['persen_rumah_menyewa'], errors='coerce').convert_dtypes()"
   ]
  },
  {
   "cell_type": "code",
   "execution_count": 60,
   "id": "137edf28",
   "metadata": {},
   "outputs": [],
   "source": [
    "df_temp_prsnsewa['persen_rumah_menyewa'] = df_temp_prsnsewa['persen_rumah_menyewa'].astype('Int64')"
   ]
  },
  {
   "cell_type": "code",
   "execution_count": 61,
   "id": "fd31e356",
   "metadata": {},
   "outputs": [
    {
     "name": "stdout",
     "output_type": "stream",
     "text": [
      "<class 'pandas.core.frame.DataFrame'>\n",
      "Int64Index: 442 entries, 0 to 441\n",
      "Data columns (total 8 columns):\n",
      " #   Column                           Non-Null Count  Dtype   \n",
      "---  ------                           --------------  -----   \n",
      " 0   prov                             442 non-null    category\n",
      " 1   tahun                            442 non-null    int64   \n",
      " 2   kategori_pmi                     442 non-null    category\n",
      " 3   persen_rumah_menyewa             442 non-null    Int64   \n",
      " 4   kepadatan_penduduk               442 non-null    Int64   \n",
      " 5   persen_anak_dengan_akte_lahir    442 non-null    float64 \n",
      " 6   persen_asupan_kalori_bawah_1400  442 non-null    float64 \n",
      " 7   melek_huruf_diatas15             442 non-null    Float64 \n",
      "dtypes: Float64(1), Int64(2), category(2), float64(2), int64(1)\n",
      "memory usage: 27.8 KB\n"
     ]
    }
   ],
   "source": [
    "df_temp_prsnsewa.info()"
   ]
  },
  {
   "cell_type": "code",
   "execution_count": 62,
   "id": "0147ed5a",
   "metadata": {},
   "outputs": [
    {
     "data": {
      "text/plain": [
       "37"
      ]
     },
     "execution_count": 62,
     "metadata": {},
     "output_type": "execute_result"
    }
   ],
   "source": [
    "df_temp_prsnsewa['persen_rumah_menyewa'].max()"
   ]
  },
  {
   "cell_type": "code",
   "execution_count": 63,
   "id": "a3cdd91d",
   "metadata": {},
   "outputs": [
    {
     "data": {
      "text/plain": [
       "1"
      ]
     },
     "execution_count": 63,
     "metadata": {},
     "output_type": "execute_result"
    }
   ],
   "source": [
    "df_temp_prsnsewa['persen_rumah_menyewa'].min()"
   ]
  },
  {
   "cell_type": "code",
   "execution_count": 64,
   "id": "1de3e196",
   "metadata": {},
   "outputs": [],
   "source": [
    "# Pengelompokkan persen rumah menyewa\n",
    "cat_1 = pd.cut(x=df_temp_prsnsewa.persen_rumah_menyewa.astype(int),bins=[-1,13,23,30,37],labels=['Sangat Rendah','Rendah','Tinggi','Sangat Tinggi'])"
   ]
  },
  {
   "cell_type": "code",
   "execution_count": 65,
   "id": "1b397b15",
   "metadata": {},
   "outputs": [
    {
     "data": {
      "text/plain": [
       "0    Sangat Rendah\n",
       "1    Sangat Rendah\n",
       "2    Sangat Rendah\n",
       "3    Sangat Rendah\n",
       "4    Sangat Rendah\n",
       "Name: persen_rumah_menyewa, dtype: category\n",
       "Categories (4, object): ['Sangat Rendah' < 'Rendah' < 'Tinggi' < 'Sangat Tinggi']"
      ]
     },
     "execution_count": 65,
     "metadata": {},
     "output_type": "execute_result"
    }
   ],
   "source": [
    "cat_1.head()"
   ]
  },
  {
   "cell_type": "code",
   "execution_count": 66,
   "id": "ad1a30a2",
   "metadata": {},
   "outputs": [],
   "source": [
    "df_gabung_2.insert(8,'Prsn_RumahSewa_Grouping', cat_1)"
   ]
  },
  {
   "cell_type": "code",
   "execution_count": 67,
   "id": "1157338c",
   "metadata": {},
   "outputs": [
    {
     "name": "stdout",
     "output_type": "stream",
     "text": [
      "<class 'pandas.core.frame.DataFrame'>\n",
      "Int64Index: 442 entries, 0 to 441\n",
      "Data columns (total 9 columns):\n",
      " #   Column                           Non-Null Count  Dtype   \n",
      "---  ------                           --------------  -----   \n",
      " 0   prov                             442 non-null    category\n",
      " 1   tahun                            442 non-null    int64   \n",
      " 2   kategori_pmi                     442 non-null    category\n",
      " 3   persen_rumah_menyewa             442 non-null    Int64   \n",
      " 4   kepadatan_penduduk               442 non-null    Int64   \n",
      " 5   persen_anak_dengan_akte_lahir    442 non-null    float64 \n",
      " 6   persen_asupan_kalori_bawah_1400  442 non-null    float64 \n",
      " 7   melek_huruf_diatas15             442 non-null    Float64 \n",
      " 8   Prsn_RumahSewa_Grouping          442 non-null    category\n",
      "dtypes: Float64(1), Int64(2), category(3), float64(2), int64(1)\n",
      "memory usage: 28.5 KB\n"
     ]
    }
   ],
   "source": [
    "df_gabung_2.info()"
   ]
  },
  {
   "cell_type": "markdown",
   "id": "c992f1bc",
   "metadata": {},
   "source": [
    "Grafik perbandingan kategori persen rumah menyewa dengan tahun"
   ]
  },
  {
   "cell_type": "code",
   "execution_count": 68,
   "id": "2d8dfec5",
   "metadata": {},
   "outputs": [
    {
     "data": {
      "text/plain": [
       "<AxesSubplot:xlabel='count', ylabel='Prsn_RumahSewa_Grouping'>"
      ]
     },
     "execution_count": 68,
     "metadata": {},
     "output_type": "execute_result"
    },
    {
     "data": {
      "image/png": "[encoded data removed]",
      "text/plain": [
       "<Figure size 1440x360 with 1 Axes>"
      ]
     },
     "metadata": {
      "needs_background": "light"
     },
     "output_type": "display_data"
    }
   ],
   "source": [
    "fig, ax = plt.subplots(figsize=(20, 5)) #atur ukuran chart\n",
    "sns.countplot(ax=ax, y=\"Prsn_RumahSewa_Grouping\",hue='tahun', data=df_gabung_2)"
   ]
  },
  {
   "cell_type": "markdown",
   "id": "2992c453",
   "metadata": {},
   "source": [
    "Dapat dilihat dari grafik diatas, setelah melalui proses grouping, data dapat dilihat dengan jelas, yang mana kolom persen rumah menyewa tertinggi dengan kategori sangat rendah, namun dilain hal, pada tiap kategorinya, ada yang dominan dan ada yang tidak, yang berarti data set menunjukkan pada tiap tahunnya persenan rumah menyewa dikategorikan sangat rendah/rendah"
   ]
  },
  {
   "cell_type": "markdown",
   "id": "1d53bbf1",
   "metadata": {},
   "source": [
    "Grafik perbandingan antara kategori persen rumah menyewa grouping, dengan data tiap prov"
   ]
  },
  {
   "cell_type": "code",
   "execution_count": 69,
   "id": "7520e7d9",
   "metadata": {},
   "outputs": [
    {
     "data": {
      "text/plain": [
       "<AxesSubplot:xlabel='count', ylabel='prov'>"
      ]
     },
     "execution_count": 69,
     "metadata": {},
     "output_type": "execute_result"
    },
    {
     "data": {
      "image/png": "[encoded data removed]",
      "text/plain": [
       "<Figure size 2160x1080 with 1 Axes>"
      ]
     },
     "metadata": {
      "needs_background": "light"
     },
     "output_type": "display_data"
    }
   ],
   "source": [
    "fig, ax = plt.subplots(figsize=(30, 15)) #atur ukuran chart\n",
    "sns.countplot(ax=ax, y=\"prov\",hue='Prsn_RumahSewa_Grouping', data=df_gabung_2)"
   ]
  },
  {
   "cell_type": "markdown",
   "id": "23583355",
   "metadata": {},
   "source": [
    "Dapat dilihat, dari grafik diatas, data perses rumah menyewa tiap prov menunjukkan bahwa, tiap provnya mendominasi dengan kategori sangat rendah, namun daripada itu, adapula data yang memiliki kategori sangat tinggi hingga rendah"
   ]
  },
  {
   "cell_type": "code",
   "execution_count": 70,
   "id": "3b5a14b7",
   "metadata": {},
   "outputs": [
    {
     "data": {
      "text/plain": [
       "<IntegerArray>\n",
       "[ 720,   92,  205,  133,   75,   72,   93,  102,  262,   90,\n",
       " ...\n",
       " 1107,  786, 1106,  676,  243,   97,  164,   43,  173,   59]\n",
       "Length: 183, dtype: Int64"
      ]
     },
     "execution_count": 70,
     "metadata": {},
     "output_type": "execute_result"
    }
   ],
   "source": [
    "df_gabung_2['kepadatan_penduduk'].unique()"
   ]
  },
  {
   "cell_type": "code",
   "execution_count": 71,
   "id": "c10563ca",
   "metadata": {},
   "outputs": [
    {
     "data": {
      "text/plain": [
       "<FloatingArray>\n",
       "[ 95.0, 98.21, 99.15, 99.17, 99.21,  98.2, 98.76, 98.01, 97.11, 98.09,\n",
       " ...\n",
       " 94.99, 99.63, 97.34, 91.29,  94.1, 98.24, 92.64, 98.49, 96.88, 70.83]\n",
       "Length: 146, dtype: Float64"
      ]
     },
     "execution_count": 71,
     "metadata": {},
     "output_type": "execute_result"
    }
   ],
   "source": [
    "df_gabung_2['melek_huruf_diatas15'].unique()"
   ]
  },
  {
   "cell_type": "code",
   "execution_count": 72,
   "id": "9db6c52a",
   "metadata": {},
   "outputs": [],
   "source": [
    "df_test = df_gabung_2"
   ]
  },
  {
   "cell_type": "code",
   "execution_count": 73,
   "id": "3cbc8fcf",
   "metadata": {},
   "outputs": [
    {
     "name": "stdout",
     "output_type": "stream",
     "text": [
      "<class 'pandas.core.frame.DataFrame'>\n",
      "Int64Index: 442 entries, 0 to 441\n",
      "Data columns (total 9 columns):\n",
      " #   Column                           Non-Null Count  Dtype   \n",
      "---  ------                           --------------  -----   \n",
      " 0   prov                             442 non-null    category\n",
      " 1   tahun                            442 non-null    int64   \n",
      " 2   kategori_pmi                     442 non-null    category\n",
      " 3   persen_rumah_menyewa             442 non-null    Int64   \n",
      " 4   kepadatan_penduduk               442 non-null    Int64   \n",
      " 5   persen_anak_dengan_akte_lahir    442 non-null    float64 \n",
      " 6   persen_asupan_kalori_bawah_1400  442 non-null    float64 \n",
      " 7   melek_huruf_diatas15             442 non-null    Float64 \n",
      " 8   Prsn_RumahSewa_Grouping          442 non-null    category\n",
      "dtypes: Float64(1), Int64(2), category(3), float64(2), int64(1)\n",
      "memory usage: 28.5 KB\n"
     ]
    }
   ],
   "source": [
    "df_test.info()"
   ]
  },
  {
   "cell_type": "code",
   "execution_count": 74,
   "id": "a770be8c",
   "metadata": {},
   "outputs": [],
   "source": [
    "df_model = pd.get_dummies(data=df_test, columns=['Prsn_RumahSewa_Grouping'])"
   ]
  },
  {
   "cell_type": "code",
   "execution_count": 75,
   "id": "b6e636dd",
   "metadata": {},
   "outputs": [],
   "source": [
    "df_model = df_model.drop(['tahun', 'prov'],axis=1)"
   ]
  },
  {
   "cell_type": "code",
   "execution_count": 76,
   "id": "cb98e0d3",
   "metadata": {},
   "outputs": [
    {
     "name": "stdout",
     "output_type": "stream",
     "text": [
      "<class 'pandas.core.frame.DataFrame'>\n",
      "Int64Index: 442 entries, 0 to 441\n",
      "Data columns (total 10 columns):\n",
      " #   Column                                 Non-Null Count  Dtype   \n",
      "---  ------                                 --------------  -----   \n",
      " 0   kategori_pmi                           442 non-null    category\n",
      " 1   persen_rumah_menyewa                   442 non-null    Int64   \n",
      " 2   kepadatan_penduduk                     442 non-null    Int64   \n",
      " 3   persen_anak_dengan_akte_lahir          442 non-null    float64 \n",
      " 4   persen_asupan_kalori_bawah_1400        442 non-null    float64 \n",
      " 5   melek_huruf_diatas15                   442 non-null    Float64 \n",
      " 6   Prsn_RumahSewa_Grouping_Sangat Rendah  442 non-null    uint8   \n",
      " 7   Prsn_RumahSewa_Grouping_Rendah         442 non-null    uint8   \n",
      " 8   Prsn_RumahSewa_Grouping_Tinggi         442 non-null    uint8   \n",
      " 9   Prsn_RumahSewa_Grouping_Sangat Tinggi  442 non-null    uint8   \n",
      "dtypes: Float64(1), Int64(2), category(1), float64(2), uint8(4)\n",
      "memory usage: 24.4 KB\n"
     ]
    }
   ],
   "source": [
    "df_model.info()"
   ]
  },
  {
   "cell_type": "code",
   "execution_count": 77,
   "id": "67dc4a76",
   "metadata": {},
   "outputs": [],
   "source": [
    "# Penentuan target\n",
    "le = preprocessing.LabelEncoder()\n",
    "le.fit(df_model.kategori_pmi)\n",
    "Y = le.transform(df_model.kategori_pmi)"
   ]
  },
  {
   "cell_type": "code",
   "execution_count": 78,
   "id": "618e9486",
   "metadata": {},
   "outputs": [
    {
     "data": {
      "text/plain": [
       "SEDANG           249\n",
       "TINGGI           170\n",
       "SANGAT RENDAH     15\n",
       "SANGAT TINGGI      8\n",
       "Name: kategori_pmi, dtype: int64"
      ]
     },
     "execution_count": 78,
     "metadata": {},
     "output_type": "execute_result"
    }
   ],
   "source": [
    "df_model.kategori_pmi.value_counts()"
   ]
  },
  {
   "cell_type": "code",
   "execution_count": 79,
   "id": "fa21f9e5",
   "metadata": {},
   "outputs": [],
   "source": [
    "# Karena sudah disimpan ke variabel le, maka kategori_pmi bisa dihapus\n",
    "X = df_model.drop(\"kategori_pmi\",axis=1)"
   ]
  },
  {
   "cell_type": "code",
   "execution_count": 80,
   "id": "a0294198",
   "metadata": {},
   "outputs": [
    {
     "name": "stdout",
     "output_type": "stream",
     "text": [
      "<class 'pandas.core.frame.DataFrame'>\n",
      "Int64Index: 442 entries, 0 to 441\n",
      "Data columns (total 9 columns):\n",
      " #   Column                                 Non-Null Count  Dtype  \n",
      "---  ------                                 --------------  -----  \n",
      " 0   persen_rumah_menyewa                   442 non-null    Int64  \n",
      " 1   kepadatan_penduduk                     442 non-null    Int64  \n",
      " 2   persen_anak_dengan_akte_lahir          442 non-null    float64\n",
      " 3   persen_asupan_kalori_bawah_1400        442 non-null    float64\n",
      " 4   melek_huruf_diatas15                   442 non-null    Float64\n",
      " 5   Prsn_RumahSewa_Grouping_Sangat Rendah  442 non-null    uint8  \n",
      " 6   Prsn_RumahSewa_Grouping_Rendah         442 non-null    uint8  \n",
      " 7   Prsn_RumahSewa_Grouping_Tinggi         442 non-null    uint8  \n",
      " 8   Prsn_RumahSewa_Grouping_Sangat Tinggi  442 non-null    uint8  \n",
      "dtypes: Float64(1), Int64(2), float64(2), uint8(4)\n",
      "memory usage: 23.7 KB\n"
     ]
    }
   ],
   "source": [
    "X.info()"
   ]
  },
  {
   "cell_type": "code",
   "execution_count": 81,
   "id": "6c1a32dc",
   "metadata": {},
   "outputs": [],
   "source": [
    "X_train,X_test,Y_train,Y_test=train_test_split(X,Y,test_size=0.3,random_state=123)"
   ]
  },
  {
   "cell_type": "code",
   "execution_count": 82,
   "id": "a2374ef9",
   "metadata": {},
   "outputs": [],
   "source": [
    "with open(\"C:\\\\KULIAH\\\\DatMin\\\\UAS\\\\data.pickle\", 'wb') as fp:\n",
    "    pickle.dump(X_train.columns, fp)"
   ]
  },
  {
   "cell_type": "code",
   "execution_count": 83,
   "id": "1be26def",
   "metadata": {},
   "outputs": [
    {
     "name": "stdout",
     "output_type": "stream",
     "text": [
      "Akurasi 0.6390977443609023\n",
      "              precision    recall  f1-score   support\n",
      "\n",
      "           0       0.50      0.25      0.33         4\n",
      "           1       0.00      0.00      0.00         1\n",
      "           2       0.63      0.97      0.77        80\n",
      "           3       0.86      0.12      0.22        48\n",
      "\n",
      "    accuracy                           0.64       133\n",
      "   macro avg       0.50      0.34      0.33       133\n",
      "weighted avg       0.71      0.64      0.55       133\n",
      "\n"
     ]
    }
   ],
   "source": [
    "clf = GaussianNB()\n",
    "clf.fit(X_train, Y_train)\n",
    "Y_pred = clf.predict(X_test)\n",
    "acc = accuracy_score(Y_test, Y_pred)\n",
    "print(\"Akurasi {}\".format(acc))\n",
    "print(classification_report(Y_test, Y_pred))"
   ]
  },
  {
   "cell_type": "code",
   "execution_count": 84,
   "id": "75c7dc35",
   "metadata": {},
   "outputs": [],
   "source": [
    "import warnings\n",
    "warnings.filterwarnings('always')"
   ]
  },
  {
   "cell_type": "code",
   "execution_count": 85,
   "id": "f620a2ca",
   "metadata": {},
   "outputs": [
    {
     "name": "stdout",
     "output_type": "stream",
     "text": [
      "Akurasi 0.7218045112781954\n",
      "              precision    recall  f1-score   support\n",
      "\n",
      "           0       0.00      0.00      0.00         4\n",
      "           1       0.00      0.00      0.00         1\n",
      "           2       0.73      0.86      0.79        80\n",
      "           3       0.73      0.56      0.64        48\n",
      "\n",
      "    accuracy                           0.72       133\n",
      "   macro avg       0.36      0.36      0.36       133\n",
      "weighted avg       0.70      0.72      0.70       133\n",
      "\n"
     ]
    },
    {
     "name": "stderr",
     "output_type": "stream",
     "text": [
      "C:\\Users\\raisy\\anaconda3\\lib\\site-packages\\sklearn\\metrics\\_classification.py:1318: UndefinedMetricWarning: Precision and F-score are ill-defined and being set to 0.0 in labels with no predicted samples. Use `zero_division` parameter to control this behavior.\n",
      "  _warn_prf(average, modifier, msg_start, len(result))\n",
      "C:\\Users\\raisy\\anaconda3\\lib\\site-packages\\sklearn\\metrics\\_classification.py:1318: UndefinedMetricWarning: Precision and F-score are ill-defined and being set to 0.0 in labels with no predicted samples. Use `zero_division` parameter to control this behavior.\n",
      "  _warn_prf(average, modifier, msg_start, len(result))\n",
      "C:\\Users\\raisy\\anaconda3\\lib\\site-packages\\sklearn\\metrics\\_classification.py:1318: UndefinedMetricWarning: Precision and F-score are ill-defined and being set to 0.0 in labels with no predicted samples. Use `zero_division` parameter to control this behavior.\n",
      "  _warn_prf(average, modifier, msg_start, len(result))\n"
     ]
    }
   ],
   "source": [
    "clf = tree.DecisionTreeClassifier()\n",
    "clf.fit(X_train, Y_train)\n",
    "Y_pred = clf.predict(X_test)\n",
    "acc = accuracy_score(Y_test, Y_pred)\n",
    "print(\"Akurasi {}\".format(acc))\n",
    "print(classification_report(Y_test, Y_pred))"
   ]
  },
  {
   "cell_type": "code",
   "execution_count": 86,
   "id": "948c8601",
   "metadata": {},
   "outputs": [
    {
     "name": "stdout",
     "output_type": "stream",
     "text": [
      "Akurasi 0.7518796992481203\n",
      "              precision    recall  f1-score   support\n",
      "\n",
      "           0       0.00      0.00      0.00         4\n",
      "           1       0.00      0.00      0.00         1\n",
      "           2       0.75      0.89      0.81        80\n",
      "           3       0.78      0.60      0.68        48\n",
      "\n",
      "    accuracy                           0.75       133\n",
      "   macro avg       0.38      0.37      0.37       133\n",
      "weighted avg       0.73      0.75      0.73       133\n",
      "\n"
     ]
    },
    {
     "name": "stderr",
     "output_type": "stream",
     "text": [
      "C:\\Users\\raisy\\anaconda3\\lib\\site-packages\\sklearn\\metrics\\_classification.py:1318: UndefinedMetricWarning: Precision and F-score are ill-defined and being set to 0.0 in labels with no predicted samples. Use `zero_division` parameter to control this behavior.\n",
      "  _warn_prf(average, modifier, msg_start, len(result))\n",
      "C:\\Users\\raisy\\anaconda3\\lib\\site-packages\\sklearn\\metrics\\_classification.py:1318: UndefinedMetricWarning: Precision and F-score are ill-defined and being set to 0.0 in labels with no predicted samples. Use `zero_division` parameter to control this behavior.\n",
      "  _warn_prf(average, modifier, msg_start, len(result))\n",
      "C:\\Users\\raisy\\anaconda3\\lib\\site-packages\\sklearn\\metrics\\_classification.py:1318: UndefinedMetricWarning: Precision and F-score are ill-defined and being set to 0.0 in labels with no predicted samples. Use `zero_division` parameter to control this behavior.\n",
      "  _warn_prf(average, modifier, msg_start, len(result))\n"
     ]
    }
   ],
   "source": [
    "clf = RandomForestClassifier(n_estimators=50, random_state=123)\n",
    "clf.fit(X_train, Y_train)\n",
    "Y_pred = clf.predict(X_test)\n",
    "acc = accuracy_score(Y_test, Y_pred)\n",
    "print(\"Akurasi {}\".format(acc))\n",
    "print(classification_report(Y_test, Y_pred))\n"
   ]
  },
  {
   "cell_type": "code",
   "execution_count": 87,
   "id": "18fd92c7",
   "metadata": {},
   "outputs": [
    {
     "name": "stdout",
     "output_type": "stream",
     "text": [
      "Akurasi 0.706766917293233\n",
      "              precision    recall  f1-score   support\n",
      "\n",
      "           0       0.00      0.00      0.00         4\n",
      "           1       0.00      0.00      0.00         1\n",
      "           2       0.71      0.86      0.78        80\n",
      "           3       0.71      0.52      0.60        48\n",
      "\n",
      "    accuracy                           0.71       133\n",
      "   macro avg       0.36      0.35      0.35       133\n",
      "weighted avg       0.69      0.71      0.69       133\n",
      "\n"
     ]
    },
    {
     "name": "stderr",
     "output_type": "stream",
     "text": [
      "C:\\Users\\raisy\\anaconda3\\lib\\site-packages\\sklearn\\metrics\\_classification.py:1318: UndefinedMetricWarning: Precision and F-score are ill-defined and being set to 0.0 in labels with no predicted samples. Use `zero_division` parameter to control this behavior.\n",
      "  _warn_prf(average, modifier, msg_start, len(result))\n",
      "C:\\Users\\raisy\\anaconda3\\lib\\site-packages\\sklearn\\metrics\\_classification.py:1318: UndefinedMetricWarning: Precision and F-score are ill-defined and being set to 0.0 in labels with no predicted samples. Use `zero_division` parameter to control this behavior.\n",
      "  _warn_prf(average, modifier, msg_start, len(result))\n",
      "C:\\Users\\raisy\\anaconda3\\lib\\site-packages\\sklearn\\metrics\\_classification.py:1318: UndefinedMetricWarning: Precision and F-score are ill-defined and being set to 0.0 in labels with no predicted samples. Use `zero_division` parameter to control this behavior.\n",
      "  _warn_prf(average, modifier, msg_start, len(result))\n"
     ]
    }
   ],
   "source": [
    "clf = xgb.XGBClassifier(objective = \"multi:softprob\", num_class = 4, eval_metric = \"mlogloss\", max_depth = 24, gamma=0.1, subsample = 0.90,learning_rate=0.01, n_estimators = 10, nthread=-1)\n",
    "# num_class adalah jumlah kelas\n",
    "clf.fit(X_train, Y_train)\n",
    "Y_pred = clf.predict(X_test)\n",
    "acc = accuracy_score(Y_test, Y_pred)\n",
    "print(\"Akurasi {}\".format(acc))\n",
    "mm_scaler = preprocessing.MinMaxScaler()\n",
    "X_train_minmax = mm_scaler.fit_transform(X_train)\n",
    "X_test_minmax = mm_scaler.transform(X_test)\n",
    "print(classification_report(Y_test, Y_pred))"
   ]
  },
  {
   "cell_type": "code",
   "execution_count": 88,
   "id": "66517f39",
   "metadata": {},
   "outputs": [],
   "source": [
    "mm_scaler = preprocessing.MinMaxScaler()\n",
    "X_train_minmax = mm_scaler.fit_transform(X_train)\n",
    "X_test_minmax = mm_scaler.transform(X_test)\n",
    "\n",
    "\n",
    "ss_scaler = preprocessing.StandardScaler()\n",
    "X_train_ss = mm_scaler.fit_transform(X_train)\n",
    "X_test_ss = mm_scaler.transform(X_test)"
   ]
  },
  {
   "cell_type": "code",
   "execution_count": 89,
   "id": "361d1ec7",
   "metadata": {},
   "outputs": [
    {
     "name": "stdout",
     "output_type": "stream",
     "text": [
      "Akurasi 0.7518796992481203\n",
      "              precision    recall  f1-score   support\n",
      "\n",
      "           0       0.00      0.00      0.00         4\n",
      "           1       0.00      0.00      0.00         1\n",
      "           2       0.75      0.89      0.81        80\n",
      "           3       0.78      0.60      0.68        48\n",
      "\n",
      "    accuracy                           0.75       133\n",
      "   macro avg       0.38      0.37      0.37       133\n",
      "weighted avg       0.73      0.75      0.73       133\n",
      "\n"
     ]
    },
    {
     "name": "stderr",
     "output_type": "stream",
     "text": [
      "C:\\Users\\raisy\\anaconda3\\lib\\site-packages\\sklearn\\metrics\\_classification.py:1318: UndefinedMetricWarning: Precision and F-score are ill-defined and being set to 0.0 in labels with no predicted samples. Use `zero_division` parameter to control this behavior.\n",
      "  _warn_prf(average, modifier, msg_start, len(result))\n",
      "C:\\Users\\raisy\\anaconda3\\lib\\site-packages\\sklearn\\metrics\\_classification.py:1318: UndefinedMetricWarning: Precision and F-score are ill-defined and being set to 0.0 in labels with no predicted samples. Use `zero_division` parameter to control this behavior.\n",
      "  _warn_prf(average, modifier, msg_start, len(result))\n",
      "C:\\Users\\raisy\\anaconda3\\lib\\site-packages\\sklearn\\metrics\\_classification.py:1318: UndefinedMetricWarning: Precision and F-score are ill-defined and being set to 0.0 in labels with no predicted samples. Use `zero_division` parameter to control this behavior.\n",
      "  _warn_prf(average, modifier, msg_start, len(result))\n"
     ]
    }
   ],
   "source": [
    "clf = RandomForestClassifier(n_estimators=50, random_state=123)\n",
    "clf.fit(X_train, Y_train)\n",
    "Y_pred = clf.predict(X_test)\n",
    "acc = accuracy_score(Y_test, Y_pred)\n",
    "print(\"Akurasi {}\".format(acc))\n",
    "print(classification_report(Y_test, Y_pred))"
   ]
  },
  {
   "cell_type": "code",
   "execution_count": 110,
   "id": "21c2666c",
   "metadata": {},
   "outputs": [
    {
     "name": "stdout",
     "output_type": "stream",
     "text": [
      "                                       importance\n",
      "kepadatan_penduduk                       0.305359\n",
      "persen_rumah_menyewa                     0.215059\n",
      "persen_anak_dengan_akte_lahir            0.192224\n",
      "melek_huruf_diatas15                     0.118732\n",
      "persen_asupan_kalori_bawah_1400          0.096188\n",
      "Prsn_RumahSewa_Grouping_Sangat Rendah    0.043301\n",
      "Prsn_RumahSewa_Grouping_Rendah           0.017515\n",
      "Prsn_RumahSewa_Grouping_Sangat Tinggi    0.011616\n",
      "Prsn_RumahSewa_Grouping_Tinggi           0.000006\n"
     ]
    }
   ],
   "source": [
    "feature_importances = pd.DataFrame(clf.feature_importances_,index = X_train.columns, columns=['importance']).sort_values('importance',ascending=False)\n",
    "print(feature_importances.head(30))"
   ]
  },
  {
   "cell_type": "code",
   "execution_count": 90,
   "id": "5fbc7fd7",
   "metadata": {},
   "outputs": [
    {
     "data": {
      "text/plain": [
       "['C:\\\\KULIAH\\\\DatMin\\\\UAS\\\\data.joblib']"
      ]
     },
     "execution_count": 90,
     "metadata": {},
     "output_type": "execute_result"
    }
   ],
   "source": [
    "joblib.dump(clf, \"C:\\\\KULIAH\\\\DatMin\\\\UAS\\\\data.joblib\")"
   ]
  },
  {
   "cell_type": "code",
   "execution_count": 91,
   "id": "a8a76f9f",
   "metadata": {},
   "outputs": [],
   "source": [
    "df_final = pd.get_dummies(data=df_test, columns=['Prsn_RumahSewa_Grouping'])"
   ]
  },
  {
   "cell_type": "code",
   "execution_count": 92,
   "id": "0b8790fc",
   "metadata": {},
   "outputs": [],
   "source": [
    "with open ('C:\\\\KULIAH\\\\DatMin\\\\UAS\\\\data.pickle', 'rb') as fp:\n",
    "    X_train_column = list(pickle.load(fp))\n",
    "    \n",
    "df_prediksi = df_final[X_train_column]"
   ]
  },
  {
   "cell_type": "code",
   "execution_count": 93,
   "id": "29f27e3c",
   "metadata": {},
   "outputs": [
    {
     "name": "stderr",
     "output_type": "stream",
     "text": [
      "C:\\Users\\raisy\\AppData\\Local\\Temp\\ipykernel_18920\\803076382.py:4: SettingWithCopyWarning: \n",
      "A value is trying to be set on a copy of a slice from a DataFrame.\n",
      "Try using .loc[row_indexer,col_indexer] = value instead\n",
      "\n",
      "See the caveats in the documentation: https://pandas.pydata.org/pandas-docs/stable/user_guide/indexing.html#returning-a-view-versus-a-copy\n",
      "  df_prediksi['kategori_pmi'] = clf.predict(df_prediksi)\n"
     ]
    }
   ],
   "source": [
    "#proses prediksi dengan menggunakan model yang sebelumnya telah dibuat\n",
    "import joblib\n",
    "clf = joblib.load(\"C:\\\\KULIAH\\\\DatMin\\\\UAS\\\\data.joblib\")\n",
    "df_prediksi['kategori_pmi'] = clf.predict(df_prediksi)"
   ]
  },
  {
   "cell_type": "code",
   "execution_count": 94,
   "id": "805ba4b4",
   "metadata": {},
   "outputs": [
    {
     "data": {
      "text/plain": [
       "2    288\n",
       "3    138\n",
       "0     10\n",
       "1      6\n",
       "Name: kategori_pmi, dtype: int64"
      ]
     },
     "execution_count": 94,
     "metadata": {},
     "output_type": "execute_result"
    }
   ],
   "source": [
    "df_prediksi['kategori_pmi'].value_counts()"
   ]
  },
  {
   "cell_type": "code",
   "execution_count": 96,
   "id": "aeabf3d1",
   "metadata": {},
   "outputs": [
    {
     "data": {
      "text/plain": [
       "array([2, 3, 1, 0])"
      ]
     },
     "execution_count": 96,
     "metadata": {},
     "output_type": "execute_result"
    }
   ],
   "source": [
    "df_prediksi['kategori_pmi'].unique()"
   ]
  },
  {
   "cell_type": "code",
   "execution_count": 99,
   "id": "3d75a91f",
   "metadata": {},
   "outputs": [],
   "source": [
    "final_df = df_gabung_2"
   ]
  },
  {
   "cell_type": "code",
   "execution_count": 100,
   "id": "46d7c27e",
   "metadata": {},
   "outputs": [
    {
     "name": "stdout",
     "output_type": "stream",
     "text": [
      "<class 'pandas.core.frame.DataFrame'>\n",
      "Int64Index: 442 entries, 0 to 441\n",
      "Data columns (total 9 columns):\n",
      " #   Column                           Non-Null Count  Dtype   \n",
      "---  ------                           --------------  -----   \n",
      " 0   prov                             442 non-null    category\n",
      " 1   tahun                            442 non-null    int64   \n",
      " 2   kategori_pmi                     442 non-null    category\n",
      " 3   persen_rumah_menyewa             442 non-null    Int64   \n",
      " 4   kepadatan_penduduk               442 non-null    Int64   \n",
      " 5   persen_anak_dengan_akte_lahir    442 non-null    float64 \n",
      " 6   persen_asupan_kalori_bawah_1400  442 non-null    float64 \n",
      " 7   melek_huruf_diatas15             442 non-null    Float64 \n",
      " 8   Prsn_RumahSewa_Grouping          442 non-null    category\n",
      "dtypes: Float64(1), Int64(2), category(3), float64(2), int64(1)\n",
      "memory usage: 28.5 KB\n"
     ]
    }
   ],
   "source": [
    "final_df.info()"
   ]
  },
  {
   "cell_type": "code",
   "execution_count": 102,
   "id": "985e5576",
   "metadata": {},
   "outputs": [],
   "source": [
    "final_df = final_df.drop([\"kategori_pmi\", \"persen_rumah_menyewa\", \"kepadatan_penduduk\", \"persen_anak_dengan_akte_lahir\", \\\n",
    "                         \"persen_asupan_kalori_bawah_1400\", \"melek_huruf_diatas15\", \"Prsn_RumahSewa_Grouping\"],axis=1)"
   ]
  },
  {
   "cell_type": "code",
   "execution_count": 104,
   "id": "205376eb",
   "metadata": {},
   "outputs": [],
   "source": [
    "final_df['kategori_pmi'] = df_prediksi['kategori_pmi']"
   ]
  },
  {
   "cell_type": "code",
   "execution_count": 105,
   "id": "144c505e",
   "metadata": {},
   "outputs": [
    {
     "name": "stdout",
     "output_type": "stream",
     "text": [
      "<class 'pandas.core.frame.DataFrame'>\n",
      "Int64Index: 442 entries, 0 to 441\n",
      "Data columns (total 3 columns):\n",
      " #   Column        Non-Null Count  Dtype   \n",
      "---  ------        --------------  -----   \n",
      " 0   prov          442 non-null    category\n",
      " 1   tahun         442 non-null    int64   \n",
      " 2   kategori_pmi  442 non-null    int32   \n",
      "dtypes: category(1), int32(1), int64(1)\n",
      "memory usage: 10.4 KB\n"
     ]
    }
   ],
   "source": [
    "final_df.info()"
   ]
  },
  {
   "cell_type": "code",
   "execution_count": 108,
   "id": "9daa38dd",
   "metadata": {},
   "outputs": [],
   "source": [
    "final_df['kategori_pmi'].replace({0:\"SANGAT RENDAH\",1:\"SEDANG\", 2:\"TINGGI\", 3:\"SANGAT TINGGI\"}, inplace=True)"
   ]
  },
  {
   "cell_type": "code",
   "execution_count": 109,
   "id": "0a2eb912",
   "metadata": {},
   "outputs": [
    {
     "data": {
      "text/html": [
       "<div>\n",
       "<style scoped>\n",
       "    .dataframe tbody tr th:only-of-type {\n",
       "        vertical-align: middle;\n",
       "    }\n",
       "\n",
       "    .dataframe tbody tr th {\n",
       "        vertical-align: top;\n",
       "    }\n",
       "\n",
       "    .dataframe thead th {\n",
       "        text-align: right;\n",
       "    }\n",
       "</style>\n",
       "<table border=\"1\" class=\"dataframe\">\n",
       "  <thead>\n",
       "    <tr style=\"text-align: right;\">\n",
       "      <th></th>\n",
       "      <th>prov</th>\n",
       "      <th>tahun</th>\n",
       "      <th>kategori_pmi</th>\n",
       "    </tr>\n",
       "  </thead>\n",
       "  <tbody>\n",
       "    <tr>\n",
       "      <th>0</th>\n",
       "      <td>ACEH</td>\n",
       "      <td>2022</td>\n",
       "      <td>TINGGI</td>\n",
       "    </tr>\n",
       "    <tr>\n",
       "      <th>1</th>\n",
       "      <td>SUMATERA UTARA</td>\n",
       "      <td>2022</td>\n",
       "      <td>TINGGI</td>\n",
       "    </tr>\n",
       "    <tr>\n",
       "      <th>2</th>\n",
       "      <td>SUMATERA BARAT</td>\n",
       "      <td>2022</td>\n",
       "      <td>TINGGI</td>\n",
       "    </tr>\n",
       "    <tr>\n",
       "      <th>3</th>\n",
       "      <td>RIAU</td>\n",
       "      <td>2022</td>\n",
       "      <td>TINGGI</td>\n",
       "    </tr>\n",
       "    <tr>\n",
       "      <th>4</th>\n",
       "      <td>JAMBI</td>\n",
       "      <td>2022</td>\n",
       "      <td>TINGGI</td>\n",
       "    </tr>\n",
       "  </tbody>\n",
       "</table>\n",
       "</div>"
      ],
      "text/plain": [
       "             prov  tahun kategori_pmi\n",
       "0            ACEH   2022       TINGGI\n",
       "1  SUMATERA UTARA   2022       TINGGI\n",
       "2  SUMATERA BARAT   2022       TINGGI\n",
       "3            RIAU   2022       TINGGI\n",
       "4           JAMBI   2022       TINGGI"
      ]
     },
     "execution_count": 109,
     "metadata": {},
     "output_type": "execute_result"
    }
   ],
   "source": [
    "final_df.head(5)"
   ]
  },
  {
   "cell_type": "code",
   "execution_count": 111,
   "id": "a35ff0c7",
   "metadata": {},
   "outputs": [],
   "source": [
    "final_df.to_csv(\"C:\\\\KULIAH\\\\DatMin\\\\UAS\\\\predict.csv\", index=False)"
   ]
  }
 ],
 "metadata": {
  "kernelspec": {
   "display_name": "Python 3 (ipykernel)",
   "language": "python",
   "name": "python3"
  },
  "language_info": {
   "codemirror_mode": {
    "name": "ipython",
    "version": 3
   },
   "file_extension": ".py",
   "mimetype": "text/x-python",
   "name": "python",
   "nbconvert_exporter": "python",
   "pygments_lexer": "ipython3",
   "version": "3.9.12"
  }
 },
 "nbformat": 4,
 "nbformat_minor": 5
}
